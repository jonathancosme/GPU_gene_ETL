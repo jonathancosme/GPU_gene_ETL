{
 "cells": [
  {
   "cell_type": "code",
   "execution_count": null,
   "id": "c42f2a6c-b856-4c34-a6c6-314c7ed915e3",
   "metadata": {},
   "outputs": [],
   "source": []
  },
  {
   "cell_type": "code",
   "execution_count": 1,
   "id": "35701b41-b7df-48af-b329-3e0005fc133f",
   "metadata": {},
   "outputs": [],
   "source": [
    "from dask.distributed import Client\n",
    "from dask_cuda import LocalCUDACluster\n",
    "import dask_cudf\n",
    "import nvtabular as nvt\n",
    "from glob import glob"
   ]
  },
  {
   "cell_type": "code",
   "execution_count": 2,
   "id": "a6a8c4c7-caa8-4ced-93b5-03a0dd728c53",
   "metadata": {},
   "outputs": [],
   "source": [
    "# lets put these into python variables\n",
    "input_dir = '/media/jcosme/bigdata/COSME/datasets/COSME_classes_16_and_1_train_size_4000'\n",
    "input_col_name = 'seq'\n",
    "label_col_name = 'label'\n",
    "max_seq_len = 150"
   ]
  },
  {
   "cell_type": "code",
   "execution_count": 3,
   "id": "7ec86365-79f6-4680-84c9-2c4e1093315a",
   "metadata": {},
   "outputs": [
    {
     "name": "stderr",
     "output_type": "stream",
     "text": [
      "2022-07-04 10:31:02,220 - distributed.preloading - INFO - Import preload module: dask_cuda.initialize\n"
     ]
    },
    {
     "data": {
      "text/html": [
       "<div>\n",
       "    <div style=\"width: 24px; height: 24px; background-color: #e1e1e1; border: 3px solid #9D9D9D; border-radius: 5px; position: absolute;\"> </div>\n",
       "    <div style=\"margin-left: 48px;\">\n",
       "        <h3 style=\"margin-bottom: 0px;\">Client</h3>\n",
       "        <p style=\"color: #9D9D9D; margin-bottom: 0px;\">Client-4fec8952-fbae-11ec-8a02-5404a6f2d0f2</p>\n",
       "        <table style=\"width: 100%; text-align: left;\">\n",
       "\n",
       "        <tr>\n",
       "        \n",
       "            <td style=\"text-align: left;\"><strong>Connection method:</strong> Cluster object</td>\n",
       "            <td style=\"text-align: left;\"><strong>Cluster type:</strong> dask_cuda.LocalCUDACluster</td>\n",
       "        \n",
       "        </tr>\n",
       "\n",
       "        \n",
       "            <tr>\n",
       "                <td style=\"text-align: left;\">\n",
       "                    <strong>Dashboard: </strong> <a href=\"http://127.0.0.1:8787/status\" target=\"_blank\">http://127.0.0.1:8787/status</a>\n",
       "                </td>\n",
       "                <td style=\"text-align: left;\"></td>\n",
       "            </tr>\n",
       "        \n",
       "\n",
       "        </table>\n",
       "\n",
       "        \n",
       "            <details>\n",
       "            <summary style=\"margin-bottom: 20px;\"><h3 style=\"display: inline;\">Cluster Info</h3></summary>\n",
       "            <div class=\"jp-RenderedHTMLCommon jp-RenderedHTML jp-mod-trusted jp-OutputArea-output\">\n",
       "    <div style=\"width: 24px; height: 24px; background-color: #e1e1e1; border: 3px solid #9D9D9D; border-radius: 5px; position: absolute;\">\n",
       "    </div>\n",
       "    <div style=\"margin-left: 48px;\">\n",
       "        <h3 style=\"margin-bottom: 0px; margin-top: 0px;\">LocalCUDACluster</h3>\n",
       "        <p style=\"color: #9D9D9D; margin-bottom: 0px;\">0f94d1fb</p>\n",
       "        <table style=\"width: 100%; text-align: left;\">\n",
       "            <tr>\n",
       "                <td style=\"text-align: left;\">\n",
       "                    <strong>Dashboard:</strong> <a href=\"http://127.0.0.1:8787/status\" target=\"_blank\">http://127.0.0.1:8787/status</a>\n",
       "                </td>\n",
       "                <td style=\"text-align: left;\">\n",
       "                    <strong>Workers:</strong> 1\n",
       "                </td>\n",
       "            </tr>\n",
       "            <tr>\n",
       "                <td style=\"text-align: left;\">\n",
       "                    <strong>Total threads:</strong> 1\n",
       "                </td>\n",
       "                <td style=\"text-align: left;\">\n",
       "                    <strong>Total memory:</strong> 62.74 GiB\n",
       "                </td>\n",
       "            </tr>\n",
       "            \n",
       "            <tr>\n",
       "    <td style=\"text-align: left;\"><strong>Status:</strong> running</td>\n",
       "    <td style=\"text-align: left;\"><strong>Using processes:</strong> True</td>\n",
       "</tr>\n",
       "\n",
       "            \n",
       "        </table>\n",
       "\n",
       "        <details>\n",
       "            <summary style=\"margin-bottom: 20px;\">\n",
       "                <h3 style=\"display: inline;\">Scheduler Info</h3>\n",
       "            </summary>\n",
       "\n",
       "            <div style=\"\">\n",
       "    <div>\n",
       "        <div style=\"width: 24px; height: 24px; background-color: #FFF7E5; border: 3px solid #FF6132; border-radius: 5px; position: absolute;\"> </div>\n",
       "        <div style=\"margin-left: 48px;\">\n",
       "            <h3 style=\"margin-bottom: 0px;\">Scheduler</h3>\n",
       "            <p style=\"color: #9D9D9D; margin-bottom: 0px;\">Scheduler-d88874b2-01b8-4ce3-b0d2-30474404f003</p>\n",
       "            <table style=\"width: 100%; text-align: left;\">\n",
       "                <tr>\n",
       "                    <td style=\"text-align: left;\">\n",
       "                        <strong>Comm:</strong> tcp://127.0.0.1:34521\n",
       "                    </td>\n",
       "                    <td style=\"text-align: left;\">\n",
       "                        <strong>Workers:</strong> 1\n",
       "                    </td>\n",
       "                </tr>\n",
       "                <tr>\n",
       "                    <td style=\"text-align: left;\">\n",
       "                        <strong>Dashboard:</strong> <a href=\"http://127.0.0.1:8787/status\" target=\"_blank\">http://127.0.0.1:8787/status</a>\n",
       "                    </td>\n",
       "                    <td style=\"text-align: left;\">\n",
       "                        <strong>Total threads:</strong> 1\n",
       "                    </td>\n",
       "                </tr>\n",
       "                <tr>\n",
       "                    <td style=\"text-align: left;\">\n",
       "                        <strong>Started:</strong> Just now\n",
       "                    </td>\n",
       "                    <td style=\"text-align: left;\">\n",
       "                        <strong>Total memory:</strong> 62.74 GiB\n",
       "                    </td>\n",
       "                </tr>\n",
       "            </table>\n",
       "        </div>\n",
       "    </div>\n",
       "\n",
       "    <details style=\"margin-left: 48px;\">\n",
       "        <summary style=\"margin-bottom: 20px;\">\n",
       "            <h3 style=\"display: inline;\">Workers</h3>\n",
       "        </summary>\n",
       "\n",
       "        \n",
       "        <div style=\"margin-bottom: 20px;\">\n",
       "            <div style=\"width: 24px; height: 24px; background-color: #DBF5FF; border: 3px solid #4CC9FF; border-radius: 5px; position: absolute;\"> </div>\n",
       "            <div style=\"margin-left: 48px;\">\n",
       "            <details>\n",
       "                <summary>\n",
       "                    <h4 style=\"margin-bottom: 0px; display: inline;\">Worker: 0</h4>\n",
       "                </summary>\n",
       "                <table style=\"width: 100%; text-align: left;\">\n",
       "                    <tr>\n",
       "                        <td style=\"text-align: left;\">\n",
       "                            <strong>Comm: </strong> tcp://127.0.0.1:37475\n",
       "                        </td>\n",
       "                        <td style=\"text-align: left;\">\n",
       "                            <strong>Total threads: </strong> 1\n",
       "                        </td>\n",
       "                    </tr>\n",
       "                    <tr>\n",
       "                        <td style=\"text-align: left;\">\n",
       "                            <strong>Dashboard: </strong> <a href=\"http://127.0.0.1:45017/status\" target=\"_blank\">http://127.0.0.1:45017/status</a>\n",
       "                        </td>\n",
       "                        <td style=\"text-align: left;\">\n",
       "                            <strong>Memory: </strong> 62.74 GiB\n",
       "                        </td>\n",
       "                    </tr>\n",
       "                    <tr>\n",
       "                        <td style=\"text-align: left;\">\n",
       "                            <strong>Nanny: </strong> tcp://127.0.0.1:44233\n",
       "                        </td>\n",
       "                        <td style=\"text-align: left;\"></td>\n",
       "                    </tr>\n",
       "                    <tr>\n",
       "                        <td colspan=\"2\" style=\"text-align: left;\">\n",
       "                            <strong>Local directory: </strong> /home/jcosme/proj/COSME/dask-worker-space/worker-3llr3ny6\n",
       "                        </td>\n",
       "                    </tr>\n",
       "\n",
       "                    \n",
       "                    <tr>\n",
       "                        <td style=\"text-align: left;\">\n",
       "                            <strong>GPU: </strong>NVIDIA GeForce RTX 3090\n",
       "                        </td>\n",
       "                        <td style=\"text-align: left;\">\n",
       "                            <strong>GPU memory: </strong> 24.00 GiB\n",
       "                        </td>\n",
       "                    </tr>\n",
       "                    \n",
       "\n",
       "                    \n",
       "\n",
       "                </table>\n",
       "            </details>\n",
       "            </div>\n",
       "        </div>\n",
       "        \n",
       "\n",
       "    </details>\n",
       "</div>\n",
       "\n",
       "        </details>\n",
       "    </div>\n",
       "</div>\n",
       "            </details>\n",
       "        \n",
       "\n",
       "    </div>\n",
       "</div>"
      ],
      "text/plain": [
       "<Client: 'tcp://127.0.0.1:34521' processes=1 threads=1, memory=62.74 GiB>"
      ]
     },
     "execution_count": 3,
     "metadata": {},
     "output_type": "execute_result"
    }
   ],
   "source": [
    "cluster = LocalCUDACluster(CUDA_VISIBLE_DEVICES='0')\n",
    "client = Client(cluster)\n",
    "client"
   ]
  },
  {
   "cell_type": "code",
   "execution_count": 4,
   "id": "efa1361f-f3e2-48d0-8558-dcd5019003cf",
   "metadata": {},
   "outputs": [
    {
     "name": "stderr",
     "output_type": "stream",
     "text": [
      "/home/jcosme/miniconda3/envs/rapids/lib/python3.9/site-packages/merlin/core/utils.py:384: FutureWarning: The `client` argument is deprecated from Workflow and will be removed in a future version of NVTabular. By default, a global client in the same python context will be detected automatically, and `merlin.utils.set_dask_client` (as well as `Distributed` and `Serial`) can be used for explicit control.\n",
      "  warnings.warn(\n"
     ]
    }
   ],
   "source": [
    "# create the pipeline\n",
    "# nvt.ColumnGroup(\n",
    "cat_features =  [input_col_name] >> nvt.ops.Categorify() >> nvt.ops.ListSlice(0, end=max_seq_len, pad=True, pad_value=0.0)\n",
    "lab_features = [label_col_name] >> nvt.ops.Categorify()\n",
    "# add label column\n",
    "output = cat_features + lab_features\n",
    "\n",
    "# create workflow\n",
    "workflow = nvt.Workflow(output, client=client)"
   ]
  },
  {
   "cell_type": "code",
   "execution_count": 5,
   "id": "b0146e2e-04d2-4deb-8e72-70378fe92462",
   "metadata": {},
   "outputs": [
    {
     "data": {
      "text/plain": [
       "'/media/jcosme/bigdata/COSME/datasets/COSME_classes_16_and_1_train_size_4000/workflow'"
      ]
     },
     "execution_count": 5,
     "metadata": {},
     "output_type": "execute_result"
    }
   ],
   "source": [
    "workflow_name = f\"{input_dir}/workflow\"\n",
    "workflow_name"
   ]
  },
  {
   "cell_type": "code",
   "execution_count": 6,
   "id": "6d29296a-4798-4d24-a36c-91c0e716971a",
   "metadata": {},
   "outputs": [
    {
     "data": {
      "text/plain": [
       "'/media/jcosme/bigdata/COSME/datasets/COSME_classes_16_and_1_train_size_4000/test_data.parquet'"
      ]
     },
     "execution_count": 6,
     "metadata": {},
     "output_type": "execute_result"
    }
   ],
   "source": [
    "data_paths = [x for x in glob(f\"{input_dir}/*\") if '.parquet' in x]\n",
    "train_path = [x for x in data_paths if 'train_data' in x][0]\n",
    "val_path = [x for x in data_paths if 'val_data' in x][0]\n",
    "test_path = [x for x in data_paths if 'test_data' in x][0]\n",
    "test_path"
   ]
  },
  {
   "cell_type": "code",
   "execution_count": 7,
   "id": "957e1044-c03c-4105-a95a-54a1aa6fda7e",
   "metadata": {},
   "outputs": [
    {
     "name": "stdout",
     "output_type": "stream",
     "text": [
      "fitting nvtab workflow on training data...\n"
     ]
    }
   ],
   "source": [
    "# fitting on training data, and saving the workflow\n",
    "print(\"fitting nvtab workflow on training data...\")\n",
    "workflow.fit(nvt.Dataset(train_path, engine='parquet', row_group_size=row_group_size))\n",
    "workflow.save(workflow_name)"
   ]
  },
  {
   "cell_type": "code",
   "execution_count": 8,
   "id": "7d2927d1-b4be-40be-a1b0-5e5bad385112",
   "metadata": {},
   "outputs": [
    {
     "name": "stdout",
     "output_type": "stream",
     "text": [
      "making nvtab dataset for training...\n"
     ]
    }
   ],
   "source": [
    "shuffle= nvt.io.Shuffle.PER_PARTITION\n",
    "print(\"making nvtab dataset for training...\")\n",
    "workflow.transform(nvt.Dataset(train_path, engine='parquet', row_group_size=row_group_size)).to_parquet(\n",
    "    output_path=f\"{input_dir}/train_nvtab.parquet\",\n",
    "    shuffle=shuffle,\n",
    "    cats=[input_col_name],\n",
    "    labels=[label_col_name],\n",
    ")"
   ]
  },
  {
   "cell_type": "code",
   "execution_count": 9,
   "id": "440b5425-ee3b-44a5-9ff1-435d4b30036f",
   "metadata": {},
   "outputs": [
    {
     "name": "stdout",
     "output_type": "stream",
     "text": [
      "making nvtab dataset for val...\n"
     ]
    }
   ],
   "source": [
    "print(f\"making nvtab dataset for val...\")\n",
    "workflow.transform(nvt.Dataset(val_path, engine='parquet', row_group_size=row_group_size)).to_parquet(\n",
    "    output_path=f\"{input_dir}/val_nvtab.parquet\",\n",
    "    shuffle=None,\n",
    "    out_files_per_proc=None,\n",
    "    cats=[input_col_name],\n",
    "    labels=[label_col_name],\n",
    ")"
   ]
  },
  {
   "cell_type": "code",
   "execution_count": 10,
   "id": "5edfa7b1-8158-43bf-8efc-e1d9ca4bee94",
   "metadata": {},
   "outputs": [
    {
     "name": "stdout",
     "output_type": "stream",
     "text": [
      "making nvtab dataset for test...\n"
     ]
    }
   ],
   "source": [
    "print(f\"making nvtab dataset for test...\")\n",
    "workflow.transform(nvt.Dataset(test_path, engine='parquet', row_group_size=row_group_size)).to_parquet(\n",
    "    output_path=f\"{input_dir}/test_nvtab.parquet\",\n",
    "    shuffle=None,\n",
    "    out_files_per_proc=None,\n",
    "    cats=[input_col_name],\n",
    "    labels=[label_col_name],\n",
    ")"
   ]
  },
  {
   "cell_type": "code",
   "execution_count": 11,
   "id": "21575e7d-40fb-468a-917a-976ca20858e8",
   "metadata": {},
   "outputs": [],
   "source": [
    "client.cancel(workflow)"
   ]
  },
  {
   "cell_type": "code",
   "execution_count": 12,
   "id": "797ad910-1214-4c30-b3c1-426dde423567",
   "metadata": {},
   "outputs": [
    {
     "name": "stderr",
     "output_type": "stream",
     "text": [
      "2022-07-04 10:31:44,690 - distributed.client - ERROR - \n",
      "ConnectionRefusedError: [Errno 111] Connection refused\n",
      "\n",
      "The above exception was the direct cause of the following exception:\n",
      "\n",
      "Traceback (most recent call last):\n",
      "  File \"/home/jcosme/miniconda3/envs/rapids/lib/python3.9/site-packages/distributed/comm/core.py\", line 289, in connect\n",
      "    comm = await asyncio.wait_for(\n",
      "  File \"/home/jcosme/miniconda3/envs/rapids/lib/python3.9/asyncio/tasks.py\", line 479, in wait_for\n",
      "    return fut.result()\n",
      "  File \"/home/jcosme/miniconda3/envs/rapids/lib/python3.9/site-packages/distributed/comm/tcp.py\", line 451, in connect\n",
      "    convert_stream_closed_error(self, e)\n",
      "  File \"/home/jcosme/miniconda3/envs/rapids/lib/python3.9/site-packages/distributed/comm/tcp.py\", line 148, in convert_stream_closed_error\n",
      "    raise CommClosedError(f\"in {obj}: {exc.__class__.__name__}: {exc}\") from exc\n",
      "distributed.comm.core.CommClosedError: in <distributed.comm.tcp.TCPConnector object at 0x7f3a093167f0>: ConnectionRefusedError: [Errno 111] Connection refused\n",
      "\n",
      "During handling of the above exception, another exception occurred:\n",
      "\n",
      "Traceback (most recent call last):\n",
      "  File \"/home/jcosme/miniconda3/envs/rapids/lib/python3.9/site-packages/distributed/utils.py\", line 761, in wrapper\n",
      "    return await func(*args, **kwargs)\n",
      "  File \"/home/jcosme/miniconda3/envs/rapids/lib/python3.9/site-packages/distributed/client.py\", line 1225, in _reconnect\n",
      "    await self._ensure_connected(timeout=timeout)\n",
      "  File \"/home/jcosme/miniconda3/envs/rapids/lib/python3.9/site-packages/distributed/client.py\", line 1255, in _ensure_connected\n",
      "    comm = await connect(\n",
      "  File \"/home/jcosme/miniconda3/envs/rapids/lib/python3.9/site-packages/distributed/comm/core.py\", line 313, in connect\n",
      "    await asyncio.sleep(backoff)\n",
      "  File \"/home/jcosme/miniconda3/envs/rapids/lib/python3.9/asyncio/tasks.py\", line 652, in sleep\n",
      "    return await future\n",
      "asyncio.exceptions.CancelledError\n",
      "\n",
      "Traceback (most recent call last):\n",
      "  File \"/home/jcosme/miniconda3/envs/rapids/lib/python3.9/site-packages/distributed/comm/tcp.py\", line 226, in read\n",
      "    frames_nbytes = await stream.read_bytes(fmt_size)\n",
      "tornado.iostream.StreamClosedError: Stream is closed\n",
      "\n",
      "The above exception was the direct cause of the following exception:\n",
      "\n",
      "Traceback (most recent call last):\n",
      "  File \"/home/jcosme/miniconda3/envs/rapids/lib/python3.9/site-packages/distributed/client.py\", line 1406, in _handle_report\n",
      "    msgs = await self.scheduler_comm.comm.read()\n",
      "  File \"/home/jcosme/miniconda3/envs/rapids/lib/python3.9/site-packages/distributed/comm/tcp.py\", line 242, in read\n",
      "    convert_stream_closed_error(self, e)\n",
      "  File \"/home/jcosme/miniconda3/envs/rapids/lib/python3.9/site-packages/distributed/comm/tcp.py\", line 150, in convert_stream_closed_error\n",
      "    raise CommClosedError(f\"in {obj}: {exc}\") from exc\n",
      "distributed.comm.core.CommClosedError: in <TCP (closed) Client->Scheduler local=tcp://127.0.0.1:38324 remote=tcp://127.0.0.1:34521>: Stream is closed\n",
      "\n",
      "During handling of the above exception, another exception occurred:\n",
      "\n",
      "Traceback (most recent call last):\n",
      "  File \"/home/jcosme/miniconda3/envs/rapids/lib/python3.9/site-packages/distributed/utils.py\", line 761, in wrapper\n",
      "    return await func(*args, **kwargs)\n",
      "  File \"/home/jcosme/miniconda3/envs/rapids/lib/python3.9/site-packages/distributed/client.py\", line 1414, in _handle_report\n",
      "    await self._reconnect()\n",
      "  File \"/home/jcosme/miniconda3/envs/rapids/lib/python3.9/site-packages/distributed/utils.py\", line 761, in wrapper\n",
      "    return await func(*args, **kwargs)\n",
      "  File \"/home/jcosme/miniconda3/envs/rapids/lib/python3.9/site-packages/distributed/client.py\", line 1225, in _reconnect\n",
      "    await self._ensure_connected(timeout=timeout)\n",
      "  File \"/home/jcosme/miniconda3/envs/rapids/lib/python3.9/site-packages/distributed/client.py\", line 1255, in _ensure_connected\n",
      "    comm = await connect(\n",
      "  File \"/home/jcosme/miniconda3/envs/rapids/lib/python3.9/site-packages/distributed/comm/core.py\", line 313, in connect\n",
      "    await asyncio.sleep(backoff)\n",
      "  File \"/home/jcosme/miniconda3/envs/rapids/lib/python3.9/asyncio/tasks.py\", line 652, in sleep\n",
      "    return await future\n",
      "asyncio.exceptions.CancelledError\n"
     ]
    }
   ],
   "source": [
    "# shutdown the Dask cluster\n",
    "client.shutdown()\n",
    "\n",
    "# finally we close the Dask cluster\n",
    "client.close()"
   ]
  },
  {
   "cell_type": "code",
   "execution_count": null,
   "id": "8157258d-9867-4bbb-b7fc-6ab6871b434e",
   "metadata": {},
   "outputs": [],
   "source": []
  }
 ],
 "metadata": {
  "kernelspec": {
   "display_name": "rapids",
   "language": "python",
   "name": "rapids"
  },
  "language_info": {
   "codemirror_mode": {
    "name": "ipython",
    "version": 3
   },
   "file_extension": ".py",
   "mimetype": "text/x-python",
   "name": "python",
   "nbconvert_exporter": "python",
   "pygments_lexer": "ipython3",
   "version": "3.9.13"
  }
 },
 "nbformat": 4,
 "nbformat_minor": 5
}
