{
 "cells": [
  {
   "cell_type": "code",
   "execution_count": null,
   "id": "cf0970f7-f2d7-4146-84f3-8dcdfc3b06cd",
   "metadata": {},
   "outputs": [],
   "source": [
    "from dask.distributed import Client\n",
    "from dask_cuda import LocalCUDACluster\n",
    "import dask_cudf\n",
    "import argparse\n",
    "import yaml\n",
    "from pprint import pprint"
   ]
  },
  {
   "cell_type": "code",
   "execution_count": null,
   "id": "08670e81-f49d-4f7c-ad0b-396fbb40e7d5",
   "metadata": {},
   "outputs": [],
   "source": [
    "cur_dir = '/home/jovyan/work/projects/COSME'\n",
    "config_subdir = 'configs/make_kmers_config.yaml'"
   ]
  },
  {
   "cell_type": "code",
   "execution_count": null,
   "id": "d3f2f75f-5c5a-4f1e-85fa-9da032c1e6e2",
   "metadata": {},
   "outputs": [],
   "source": [
    "config_dir = f\"{cur_dir}/{config_subdir}\""
   ]
  },
  {
   "cell_type": "code",
   "execution_count": null,
   "id": "44727e66-551b-40ec-9b65-730b0ed0f9d5",
   "metadata": {},
   "outputs": [],
   "source": [
    "print(f\"loading yaml file...\")\n",
    "config = open(config_dir, 'r').read()\n",
    "pprint(config_yaml_data)"
   ]
  },
  {
   "cell_type": "code",
   "execution_count": null,
   "id": "5d4b9ade-760e-4589-88f8-f5e9fae3d888",
   "metadata": {},
   "outputs": [],
   "source": [
    "in_dir = config['in_dir']  \n",
    "in_data_splits_config_file = config['in_data_splits_config_file']  \n",
    "out_dir = config['out_dir']  \n",
    "unique_classes_data_path = config['unique_classes_data_path']  \n",
    "number_of_classes = config['number_of_classes']  \n",
    "size_per_class = config['size_per_class']  \n",
    "rand_seed = config['rand_seed']  \n",
    "do_rand_seed = config['do_rand_seed']  \n",
    "tgt_col = config['tgt_col']  \n",
    "inp_col = config['inp_col']  \n",
    "do_unknown_class = config['do_unknown_class']  \n",
    "name_for_unknown_class = config['name_for_unknown_class']  \n",
    "\n",
    "CUDA_VISIBLE_DEVICES = config['CUDA_VISIBLE_DEVICES']  \n",
    "do_cuda_vis_dev = config['do_cuda_vis_dev']  \n",
    "partition_size = config['partition_size']  "
   ]
  },
  {
   "cell_type": "code",
   "execution_count": null,
   "id": "e3645733-683e-460f-bb6d-d59974e40806",
   "metadata": {},
   "outputs": [],
   "source": [
    "original_size_per_class = config['size_per_class']\n",
    "split_files = glob(f\"{in_dir}/*.parquet\")\n",
    "split_names = [ x.split('/')[-1] for x in split_files]"
   ]
  },
  {
   "cell_type": "code",
   "execution_count": null,
   "id": "7ea1b042-a253-4b66-be15-c0c87209198c",
   "metadata": {},
   "outputs": [],
   "source": [
    "dsplit_config = open(in_data_splits_config_file, 'r').read()\n",
    "splits = dsplit_config['splits'] \n",
    "# split_names = []\n",
    "# split_perc = []\n",
    "# for key, val in splits.items():\n",
    "#     split_names.append(key)\n",
    "#     split_perc.append(val)"
   ]
  },
  {
   "cell_type": "code",
   "execution_count": null,
   "id": "5a5978a7-7123-4179-bc67-1257fb71f0c8",
   "metadata": {},
   "outputs": [],
   "source": [
    "print(f\"train size per class: {size_per_class}\")\n",
    "# turn off random seed if needed\n",
    "if not do_rand_seed:\n",
    "    rand_seed = None"
   ]
  },
  {
   "cell_type": "code",
   "execution_count": null,
   "id": "a3a26b6c-ba3d-47ed-944f-1ce5b23ca916",
   "metadata": {},
   "outputs": [],
   "source": [
    "print(f\"starting Dask GPU cluster...\")\n",
    "if do_cuda_vis_dev:\n",
    "    cluster = LocalCUDACluster(\n",
    "        protocol=\"ucx\",\n",
    "        enable_tcp_over_ucx=True,\n",
    "        CUDA_VISIBLE_DEVICES=CUDA_VISIBLE_DEVICES,\n",
    "        local_directory='/tmp/dask',\n",
    "    )\n",
    "else:\n",
    "    cluster = LocalCUDACluster(\n",
    "        protocol=\"ucx\",\n",
    "        enable_tcp_over_ucx=True,\n",
    "        local_directory='/tmp/dask',\n",
    "    )\n",
    "client = Client(cluster)"
   ]
  },
  {
   "cell_type": "code",
   "execution_count": null,
   "id": "64bbe9f9-e2f5-4026-9272-5d2b81cc0615",
   "metadata": {},
   "outputs": [],
   "source": [
    "print(f\"loading classes file...\")\n",
    "# make all varaiables needed: number of samples from included df | outpath\n",
    "# select classes\n",
    "selected_classes = dask_cudf.read_parquet(unique_classes_data_path).compute().to_pandas().values()\n",
    "total_classes = len(selected_classes)\n",
    "print(f\"randomly selecting {number_of_classes} of {total_classes} classes\")\n",
    "if do_rand_seed:\n",
    "    np.random.seed(rand_seed)\n",
    "selected_classes = np.random.choice(selected_classes, number_of_classes, replace=False)\n",
    "# calc number of samples to take\n",
    "# num_incl_samples = selected_classes.shape[0] * size_per_class\n",
    "# print(f\"number of samples to be taken: {num_incl_samples}\")\n",
    "original_selected_classes = selected_classes.copy()"
   ]
  },
  {
   "cell_type": "code",
   "execution_count": null,
   "id": "15f4e546-3ce8-4879-b077-879aa89e9b82",
   "metadata": {},
   "outputs": [],
   "source": [
    "def add_unknown_class(df):\n",
    "    bool_mask = df[tgt_col].isin(selected_classes)\n",
    "    df.loc[~bool_mask, tgt_col] = name_for_unknown_class\n",
    "    return df"
   ]
  },
  {
   "cell_type": "code",
   "execution_count": null,
   "id": "aaa7ef17-7ca7-448d-87b5-d1f0cfcdd176",
   "metadata": {},
   "outputs": [],
   "source": [
    "def random_select(df, size_per_class):\n",
    "    temp_row_cnt = df.shape[0]\n",
    "    cur_sample_amt = min([size_per_class, temp_row_cnt])\n",
    "    keep_frac = float(cur_sample_amt / temp_row_cnt)\n",
    "    df = df.sample(frac=keep_frac, replace=False, random_state=rand_seed)\n",
    "    return df"
   ]
  },
  {
   "cell_type": "code",
   "execution_count": null,
   "id": "34df94bb-c518-4ff8-a0f2-1ee5680b9d97",
   "metadata": {},
   "outputs": [],
   "source": [
    "for i, in_file for enumerate(split_files):\n",
    "    cur_split = split_names[i].split('.')[0]\n",
    "    cur_perc = splits[cur_split]\n",
    "    \n",
    "    selected_classes = original_selected_classes.copy()\n",
    "    size_per_class = original_size_per_class.copy()\n",
    "    if cur_split != 'train':\n",
    "        size_per_class /= splits['train']\n",
    "        size_per_class *= cur_perc\n",
    "        size_per_class = int(round(size_per_class))\n",
    "                                 \n",
    "    df = dask_cudf.read_parquet(in_file, partition_size=partition_size)\n",
    "\n",
    "    if do_unknown_class:\n",
    "        print(f\"adding unknown class name to list\")\n",
    "        selected_classes = np.sort(np.append(name_for_unknown_class, selected_classes))\n",
    "        df = df.map_partitions(add_unknown_class)\n",
    "    else:\n",
    "        print(f\"sorting selected class names\")\n",
    "        selected_classes = np.sort(selected_classes)\n",
    "        \n",
    "    df = df.shuffle(tgt_col, ignore_index=True)\n",
    "    \n",
    "    _ = df.to_parquet('/tmp/df.parquet')\n",
    "    \n",
    "    df = df.read_parquet('/tmp/df.parquet', partition_size=partition_size)\n",
    "    \n",
    "    df = df.map_partitions(random_select, size_per_class).reset_index(True)\n",
    "    \n",
    "    _ = df.to_parquet(f\"{out_dir}/{cur_split}.parquet\")\n",
    "    \n",
    "    client.cancel(df)"
   ]
  },
  {
   "cell_type": "code",
   "execution_count": null,
   "id": "e619572d-cd1b-416b-9c98-fece1cf9e75b",
   "metadata": {},
   "outputs": [],
   "source": [
    "print(f\"shutting down Dask client\")\n",
    "client.shutdown()\n",
    "print(f\"finished\")"
   ]
  }
 ],
 "metadata": {
  "kernelspec": {
   "display_name": "mlflow",
   "language": "python",
   "name": "mlflow"
  },
  "language_info": {
   "codemirror_mode": {
    "name": "ipython",
    "version": 3
   },
   "file_extension": ".py",
   "mimetype": "text/x-python",
   "name": "python",
   "nbconvert_exporter": "python",
   "pygments_lexer": "ipython3",
   "version": "3.8.13"
  }
 },
 "nbformat": 4,
 "nbformat_minor": 5
}
