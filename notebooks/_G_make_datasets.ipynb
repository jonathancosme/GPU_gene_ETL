{
 "cells": [
  {
   "cell_type": "code",
   "execution_count": 1,
   "id": "cf0970f7-f2d7-4146-84f3-8dcdfc3b06cd",
   "metadata": {},
   "outputs": [],
   "source": [
    "from dask.distributed import Client\n",
    "from dask_cuda import LocalCUDACluster\n",
    "import dask_cudf\n",
    "import argparse\n",
    "import yaml\n",
    "from pprint import pprint\n",
    "from shutil import rmtree\n",
    "import numpy as np"
   ]
  },
  {
   "cell_type": "code",
   "execution_count": 2,
   "id": "08670e81-f49d-4f7c-ad0b-396fbb40e7d5",
   "metadata": {},
   "outputs": [],
   "source": [
    "cur_dir = '/home/jovyan/work/projects/GPU_gene_ETL'\n",
    "config_subdir = 'configs/make_dataset_config.yaml'"
   ]
  },
  {
   "cell_type": "code",
   "execution_count": 3,
   "id": "d3f2f75f-5c5a-4f1e-85fa-9da032c1e6e2",
   "metadata": {},
   "outputs": [],
   "source": [
    "config_dir = f\"{cur_dir}/{config_subdir}\""
   ]
  },
  {
   "cell_type": "code",
   "execution_count": 4,
   "id": "44727e66-551b-40ec-9b65-730b0ed0f9d5",
   "metadata": {},
   "outputs": [
    {
     "name": "stdout",
     "output_type": "stream",
     "text": [
      "loading yaml file...\n",
      "{'CUDA_VISIBLE_DEVICES': '0',\n",
      " 'do_cuda_vis_dev': False,\n",
      " 'do_rand_seed': True,\n",
      " 'do_unknown_class': True,\n",
      " 'dsplit_file': '/home/jovyan/work/projects/GPU_gene_ETL/configs/make_data_splits_config.yaml',\n",
      " 'in_dir': 'gs://jcosme/clean_data/genomics/data_splits_inverse_1_mer',\n",
      " 'inp_col': 'seq',\n",
      " 'name_for_unknown_class': '_UNKOWN_',\n",
      " 'numbers_of_classes': [1, 2, 4, 8, 16],\n",
      " 'out_base_dir': 'gs://jcosme/clean_data/genomics/datasets',\n",
      " 'partition_size': '100M',\n",
      " 'rand_seed': 42,\n",
      " 'sizes_per_class': [500, 1000, 2000, 4000],\n",
      " 'tgt_col': 'label',\n",
      " 'unq_classes_file': 'gs://jcosme/clean_data/genomics/MarRef_species_unq.parquet'}\n"
     ]
    }
   ],
   "source": [
    "print(f\"loading yaml file...\")\n",
    "config = yaml.safe_load(open(config_dir, 'r'))\n",
    "pprint(config)"
   ]
  },
  {
   "cell_type": "code",
   "execution_count": 5,
   "id": "5d4b9ade-760e-4589-88f8-f5e9fae3d888",
   "metadata": {},
   "outputs": [],
   "source": [
    "in_dir = config['in_dir']  \n",
    "out_base_dir = config['out_base_dir']  \n",
    "dsplit_file = config['dsplit_file'] \n",
    "unq_classes_file = config['unq_classes_file']  \n",
    "numbers_of_classes = config['numbers_of_classes']  \n",
    "sizes_per_class = config['sizes_per_class']  \n",
    "rand_seed = config['rand_seed']  \n",
    "do_rand_seed = config['do_rand_seed']  \n",
    "tgt_col = config['tgt_col']  \n",
    "inp_col = config['inp_col']  \n",
    "do_unknown_class = config['do_unknown_class']  \n",
    "name_for_unknown_class = config['name_for_unknown_class']  \n",
    "\n",
    "CUDA_VISIBLE_DEVICES = config['CUDA_VISIBLE_DEVICES']  \n",
    "do_cuda_vis_dev = config['do_cuda_vis_dev']  \n",
    "partition_size = config['partition_size']  "
   ]
  },
  {
   "cell_type": "code",
   "execution_count": 6,
   "id": "e3645733-683e-460f-bb6d-d59974e40806",
   "metadata": {},
   "outputs": [],
   "source": [
    "# original_size_per_class = config['size_per_class']\n",
    "temp_df_file = '/tmp/df.parquet'"
   ]
  },
  {
   "cell_type": "code",
   "execution_count": 7,
   "id": "7ea1b042-a253-4b66-be15-c0c87209198c",
   "metadata": {},
   "outputs": [],
   "source": [
    "dsplit_config = yaml.safe_load(open(dsplit_file, 'r'))\n",
    "splits = dsplit_config['splits'] \n",
    "\n",
    "split_names = []\n",
    "for key, val in splits.items():\n",
    "    split_names.append(key)\n",
    "\n",
    "split_names = [ x + '.parquet' for x in split_names]\n",
    "split_files = [f\"{in_dir}/{x}\" for x in split_names]"
   ]
  },
  {
   "cell_type": "code",
   "execution_count": 8,
   "id": "5a5978a7-7123-4179-bc67-1257fb71f0c8",
   "metadata": {},
   "outputs": [
    {
     "name": "stdout",
     "output_type": "stream",
     "text": [
      "train size per class: [500, 1000, 2000, 4000]\n"
     ]
    }
   ],
   "source": [
    "print(f\"train size per class: {sizes_per_class}\")\n",
    "# turn off random seed if needed\n",
    "if not do_rand_seed:\n",
    "    rand_seed = None"
   ]
  },
  {
   "cell_type": "code",
   "execution_count": 9,
   "id": "cf81cdd8-ae2a-4740-99bc-5235d9d75866",
   "metadata": {},
   "outputs": [
    {
     "name": "stdout",
     "output_type": "stream",
     "text": [
      "gs://jcosme/clean_data/genomics/datasets/num_cls_1_sz_cls_500_unkn_cls_True\n",
      "gs://jcosme/clean_data/genomics/datasets/num_cls_1_sz_cls_1000_unkn_cls_True\n",
      "gs://jcosme/clean_data/genomics/datasets/num_cls_1_sz_cls_2000_unkn_cls_True\n",
      "gs://jcosme/clean_data/genomics/datasets/num_cls_1_sz_cls_4000_unkn_cls_True\n",
      "gs://jcosme/clean_data/genomics/datasets/num_cls_2_sz_cls_500_unkn_cls_True\n",
      "gs://jcosme/clean_data/genomics/datasets/num_cls_2_sz_cls_1000_unkn_cls_True\n",
      "gs://jcosme/clean_data/genomics/datasets/num_cls_2_sz_cls_2000_unkn_cls_True\n",
      "gs://jcosme/clean_data/genomics/datasets/num_cls_2_sz_cls_4000_unkn_cls_True\n",
      "gs://jcosme/clean_data/genomics/datasets/num_cls_4_sz_cls_500_unkn_cls_True\n",
      "gs://jcosme/clean_data/genomics/datasets/num_cls_4_sz_cls_1000_unkn_cls_True\n",
      "gs://jcosme/clean_data/genomics/datasets/num_cls_4_sz_cls_2000_unkn_cls_True\n",
      "gs://jcosme/clean_data/genomics/datasets/num_cls_4_sz_cls_4000_unkn_cls_True\n",
      "gs://jcosme/clean_data/genomics/datasets/num_cls_8_sz_cls_500_unkn_cls_True\n",
      "gs://jcosme/clean_data/genomics/datasets/num_cls_8_sz_cls_1000_unkn_cls_True\n",
      "gs://jcosme/clean_data/genomics/datasets/num_cls_8_sz_cls_2000_unkn_cls_True\n",
      "gs://jcosme/clean_data/genomics/datasets/num_cls_8_sz_cls_4000_unkn_cls_True\n",
      "gs://jcosme/clean_data/genomics/datasets/num_cls_16_sz_cls_500_unkn_cls_True\n",
      "gs://jcosme/clean_data/genomics/datasets/num_cls_16_sz_cls_1000_unkn_cls_True\n",
      "gs://jcosme/clean_data/genomics/datasets/num_cls_16_sz_cls_2000_unkn_cls_True\n",
      "gs://jcosme/clean_data/genomics/datasets/num_cls_16_sz_cls_4000_unkn_cls_True\n"
     ]
    }
   ],
   "source": [
    "for c_i, cur_n_class in enumerate(numbers_of_classes):\n",
    "    for s_i, cur_size in enumerate(sizes_per_class):\n",
    "        cur_name = f\"num_cls_{cur_n_class}_sz_cls_{cur_size}_unkn_cls_{do_unknown_class}\"\n",
    "        cur_out_dir = f\"{out_base_dir}/{cur_name}\"\n",
    "        print(cur_out_dir)"
   ]
  },
  {
   "cell_type": "code",
   "execution_count": 10,
   "id": "64de1299-b16b-4d34-8dab-f337caaf9e89",
   "metadata": {},
   "outputs": [],
   "source": [
    "tmp_dask_dir = '/tmp/dask'\n",
    "try:\n",
    "    rmtree(tmp_dask_dir)\n",
    "except:\n",
    "    pass"
   ]
  },
  {
   "cell_type": "code",
   "execution_count": 11,
   "id": "a3a26b6c-ba3d-47ed-944f-1ce5b23ca916",
   "metadata": {},
   "outputs": [
    {
     "name": "stdout",
     "output_type": "stream",
     "text": [
      "starting Dask GPU cluster...\n"
     ]
    },
    {
     "name": "stderr",
     "output_type": "stream",
     "text": [
      "2022-07-13 01:41:23,480 - distributed.preloading - INFO - Import preload module: dask_cuda.initialize\n",
      "2022-07-13 01:41:23,501 - distributed.preloading - INFO - Import preload module: dask_cuda.initialize\n"
     ]
    }
   ],
   "source": [
    "print(f\"starting Dask GPU cluster...\")\n",
    "if do_cuda_vis_dev:\n",
    "    cluster = LocalCUDACluster(\n",
    "        protocol=\"ucx\",\n",
    "        enable_tcp_over_ucx=True,\n",
    "        CUDA_VISIBLE_DEVICES=CUDA_VISIBLE_DEVICES,\n",
    "        local_directory=tmp_dask_dir,\n",
    "    )\n",
    "else:\n",
    "    cluster = LocalCUDACluster(\n",
    "        protocol=\"ucx\",\n",
    "        enable_tcp_over_ucx=True,\n",
    "        local_directory=tmp_dask_dir,\n",
    "    )\n",
    "client = Client(cluster)"
   ]
  },
  {
   "cell_type": "code",
   "execution_count": 12,
   "id": "217993dc-47a1-4158-868f-3e0b6a995c8d",
   "metadata": {},
   "outputs": [],
   "source": [
    "def add_unknown_class(df):\n",
    "    bool_mask = df[tgt_col].isin(selected_classes)\n",
    "    df.loc[~bool_mask, tgt_col] = name_for_unknown_class\n",
    "    return df"
   ]
  },
  {
   "cell_type": "code",
   "execution_count": 13,
   "id": "034d858a-c820-408c-b876-2397e6424c7d",
   "metadata": {},
   "outputs": [],
   "source": [
    "all_classes = dask_cudf.read_parquet(unq_classes_file).compute().to_pandas().values.flatten()\n",
    "total_classes = len(all_classes)"
   ]
  },
  {
   "cell_type": "code",
   "execution_count": 14,
   "id": "39bb5497-eae6-4ed9-83e3-47db7d486624",
   "metadata": {},
   "outputs": [
    {
     "name": "stdout",
     "output_type": "stream",
     "text": [
      "current sizes_per_class: 500\n",
      "current cur_n_class: 1\n",
      "current in_file: gs://jcosme/clean_data/genomics/data_splits_inverse_1_mer/train.parquet\n",
      "saving gs://jcosme/clean_data/genomics/datasets/num_cls_1_sz_cls_500_unkn_cls_True/train.parquet\n",
      "current in_file: gs://jcosme/clean_data/genomics/data_splits_inverse_1_mer/val.parquet\n",
      "saving gs://jcosme/clean_data/genomics/datasets/num_cls_1_sz_cls_500_unkn_cls_True/val.parquet\n",
      "current in_file: gs://jcosme/clean_data/genomics/data_splits_inverse_1_mer/test.parquet\n",
      "saving gs://jcosme/clean_data/genomics/datasets/num_cls_1_sz_cls_500_unkn_cls_True/test.parquet\n",
      "current sizes_per_class: 1000\n",
      "current cur_n_class: 1\n",
      "current in_file: gs://jcosme/clean_data/genomics/data_splits_inverse_1_mer/train.parquet\n",
      "saving gs://jcosme/clean_data/genomics/datasets/num_cls_1_sz_cls_1000_unkn_cls_True/train.parquet\n",
      "current in_file: gs://jcosme/clean_data/genomics/data_splits_inverse_1_mer/val.parquet\n",
      "saving gs://jcosme/clean_data/genomics/datasets/num_cls_1_sz_cls_1000_unkn_cls_True/val.parquet\n",
      "current in_file: gs://jcosme/clean_data/genomics/data_splits_inverse_1_mer/test.parquet\n",
      "saving gs://jcosme/clean_data/genomics/datasets/num_cls_1_sz_cls_1000_unkn_cls_True/test.parquet\n",
      "current sizes_per_class: 2000\n",
      "current cur_n_class: 1\n",
      "current in_file: gs://jcosme/clean_data/genomics/data_splits_inverse_1_mer/train.parquet\n",
      "saving gs://jcosme/clean_data/genomics/datasets/num_cls_1_sz_cls_2000_unkn_cls_True/train.parquet\n",
      "current in_file: gs://jcosme/clean_data/genomics/data_splits_inverse_1_mer/val.parquet\n",
      "saving gs://jcosme/clean_data/genomics/datasets/num_cls_1_sz_cls_2000_unkn_cls_True/val.parquet\n",
      "current in_file: gs://jcosme/clean_data/genomics/data_splits_inverse_1_mer/test.parquet\n",
      "saving gs://jcosme/clean_data/genomics/datasets/num_cls_1_sz_cls_2000_unkn_cls_True/test.parquet\n",
      "current sizes_per_class: 4000\n",
      "current cur_n_class: 1\n",
      "current in_file: gs://jcosme/clean_data/genomics/data_splits_inverse_1_mer/train.parquet\n",
      "saving gs://jcosme/clean_data/genomics/datasets/num_cls_1_sz_cls_4000_unkn_cls_True/train.parquet\n",
      "current in_file: gs://jcosme/clean_data/genomics/data_splits_inverse_1_mer/val.parquet\n",
      "saving gs://jcosme/clean_data/genomics/datasets/num_cls_1_sz_cls_4000_unkn_cls_True/val.parquet\n",
      "current in_file: gs://jcosme/clean_data/genomics/data_splits_inverse_1_mer/test.parquet\n",
      "saving gs://jcosme/clean_data/genomics/datasets/num_cls_1_sz_cls_4000_unkn_cls_True/test.parquet\n",
      "current sizes_per_class: 500\n",
      "current cur_n_class: 2\n",
      "current in_file: gs://jcosme/clean_data/genomics/data_splits_inverse_1_mer/train.parquet\n",
      "saving gs://jcosme/clean_data/genomics/datasets/num_cls_2_sz_cls_500_unkn_cls_True/train.parquet\n",
      "current in_file: gs://jcosme/clean_data/genomics/data_splits_inverse_1_mer/val.parquet\n",
      "saving gs://jcosme/clean_data/genomics/datasets/num_cls_2_sz_cls_500_unkn_cls_True/val.parquet\n",
      "current in_file: gs://jcosme/clean_data/genomics/data_splits_inverse_1_mer/test.parquet\n",
      "saving gs://jcosme/clean_data/genomics/datasets/num_cls_2_sz_cls_500_unkn_cls_True/test.parquet\n",
      "current sizes_per_class: 1000\n",
      "current cur_n_class: 2\n",
      "current in_file: gs://jcosme/clean_data/genomics/data_splits_inverse_1_mer/train.parquet\n",
      "saving gs://jcosme/clean_data/genomics/datasets/num_cls_2_sz_cls_1000_unkn_cls_True/train.parquet\n",
      "current in_file: gs://jcosme/clean_data/genomics/data_splits_inverse_1_mer/val.parquet\n",
      "saving gs://jcosme/clean_data/genomics/datasets/num_cls_2_sz_cls_1000_unkn_cls_True/val.parquet\n",
      "current in_file: gs://jcosme/clean_data/genomics/data_splits_inverse_1_mer/test.parquet\n",
      "saving gs://jcosme/clean_data/genomics/datasets/num_cls_2_sz_cls_1000_unkn_cls_True/test.parquet\n",
      "current sizes_per_class: 2000\n",
      "current cur_n_class: 2\n",
      "current in_file: gs://jcosme/clean_data/genomics/data_splits_inverse_1_mer/train.parquet\n",
      "saving gs://jcosme/clean_data/genomics/datasets/num_cls_2_sz_cls_2000_unkn_cls_True/train.parquet\n",
      "current in_file: gs://jcosme/clean_data/genomics/data_splits_inverse_1_mer/val.parquet\n",
      "saving gs://jcosme/clean_data/genomics/datasets/num_cls_2_sz_cls_2000_unkn_cls_True/val.parquet\n",
      "current in_file: gs://jcosme/clean_data/genomics/data_splits_inverse_1_mer/test.parquet\n",
      "saving gs://jcosme/clean_data/genomics/datasets/num_cls_2_sz_cls_2000_unkn_cls_True/test.parquet\n",
      "current sizes_per_class: 4000\n",
      "current cur_n_class: 2\n",
      "current in_file: gs://jcosme/clean_data/genomics/data_splits_inverse_1_mer/train.parquet\n",
      "saving gs://jcosme/clean_data/genomics/datasets/num_cls_2_sz_cls_4000_unkn_cls_True/train.parquet\n",
      "current in_file: gs://jcosme/clean_data/genomics/data_splits_inverse_1_mer/val.parquet\n",
      "saving gs://jcosme/clean_data/genomics/datasets/num_cls_2_sz_cls_4000_unkn_cls_True/val.parquet\n",
      "current in_file: gs://jcosme/clean_data/genomics/data_splits_inverse_1_mer/test.parquet\n",
      "saving gs://jcosme/clean_data/genomics/datasets/num_cls_2_sz_cls_4000_unkn_cls_True/test.parquet\n",
      "current sizes_per_class: 500\n",
      "current cur_n_class: 4\n",
      "current in_file: gs://jcosme/clean_data/genomics/data_splits_inverse_1_mer/train.parquet\n",
      "saving gs://jcosme/clean_data/genomics/datasets/num_cls_4_sz_cls_500_unkn_cls_True/train.parquet\n",
      "current in_file: gs://jcosme/clean_data/genomics/data_splits_inverse_1_mer/val.parquet\n",
      "saving gs://jcosme/clean_data/genomics/datasets/num_cls_4_sz_cls_500_unkn_cls_True/val.parquet\n",
      "current in_file: gs://jcosme/clean_data/genomics/data_splits_inverse_1_mer/test.parquet\n",
      "saving gs://jcosme/clean_data/genomics/datasets/num_cls_4_sz_cls_500_unkn_cls_True/test.parquet\n",
      "current sizes_per_class: 1000\n",
      "current cur_n_class: 4\n",
      "current in_file: gs://jcosme/clean_data/genomics/data_splits_inverse_1_mer/train.parquet\n",
      "saving gs://jcosme/clean_data/genomics/datasets/num_cls_4_sz_cls_1000_unkn_cls_True/train.parquet\n",
      "current in_file: gs://jcosme/clean_data/genomics/data_splits_inverse_1_mer/val.parquet\n",
      "saving gs://jcosme/clean_data/genomics/datasets/num_cls_4_sz_cls_1000_unkn_cls_True/val.parquet\n",
      "current in_file: gs://jcosme/clean_data/genomics/data_splits_inverse_1_mer/test.parquet\n",
      "saving gs://jcosme/clean_data/genomics/datasets/num_cls_4_sz_cls_1000_unkn_cls_True/test.parquet\n",
      "current sizes_per_class: 2000\n",
      "current cur_n_class: 4\n",
      "current in_file: gs://jcosme/clean_data/genomics/data_splits_inverse_1_mer/train.parquet\n",
      "saving gs://jcosme/clean_data/genomics/datasets/num_cls_4_sz_cls_2000_unkn_cls_True/train.parquet\n",
      "current in_file: gs://jcosme/clean_data/genomics/data_splits_inverse_1_mer/val.parquet\n",
      "saving gs://jcosme/clean_data/genomics/datasets/num_cls_4_sz_cls_2000_unkn_cls_True/val.parquet\n",
      "current in_file: gs://jcosme/clean_data/genomics/data_splits_inverse_1_mer/test.parquet\n",
      "saving gs://jcosme/clean_data/genomics/datasets/num_cls_4_sz_cls_2000_unkn_cls_True/test.parquet\n",
      "current sizes_per_class: 4000\n",
      "current cur_n_class: 4\n",
      "current in_file: gs://jcosme/clean_data/genomics/data_splits_inverse_1_mer/train.parquet\n",
      "saving gs://jcosme/clean_data/genomics/datasets/num_cls_4_sz_cls_4000_unkn_cls_True/train.parquet\n",
      "current in_file: gs://jcosme/clean_data/genomics/data_splits_inverse_1_mer/val.parquet\n",
      "saving gs://jcosme/clean_data/genomics/datasets/num_cls_4_sz_cls_4000_unkn_cls_True/val.parquet\n",
      "current in_file: gs://jcosme/clean_data/genomics/data_splits_inverse_1_mer/test.parquet\n",
      "saving gs://jcosme/clean_data/genomics/datasets/num_cls_4_sz_cls_4000_unkn_cls_True/test.parquet\n",
      "current sizes_per_class: 500\n",
      "current cur_n_class: 8\n",
      "current in_file: gs://jcosme/clean_data/genomics/data_splits_inverse_1_mer/train.parquet\n",
      "saving gs://jcosme/clean_data/genomics/datasets/num_cls_8_sz_cls_500_unkn_cls_True/train.parquet\n",
      "current in_file: gs://jcosme/clean_data/genomics/data_splits_inverse_1_mer/val.parquet\n",
      "saving gs://jcosme/clean_data/genomics/datasets/num_cls_8_sz_cls_500_unkn_cls_True/val.parquet\n",
      "current in_file: gs://jcosme/clean_data/genomics/data_splits_inverse_1_mer/test.parquet\n",
      "saving gs://jcosme/clean_data/genomics/datasets/num_cls_8_sz_cls_500_unkn_cls_True/test.parquet\n",
      "current sizes_per_class: 1000\n",
      "current cur_n_class: 8\n",
      "current in_file: gs://jcosme/clean_data/genomics/data_splits_inverse_1_mer/train.parquet\n",
      "saving gs://jcosme/clean_data/genomics/datasets/num_cls_8_sz_cls_1000_unkn_cls_True/train.parquet\n",
      "current in_file: gs://jcosme/clean_data/genomics/data_splits_inverse_1_mer/val.parquet\n",
      "saving gs://jcosme/clean_data/genomics/datasets/num_cls_8_sz_cls_1000_unkn_cls_True/val.parquet\n",
      "current in_file: gs://jcosme/clean_data/genomics/data_splits_inverse_1_mer/test.parquet\n",
      "saving gs://jcosme/clean_data/genomics/datasets/num_cls_8_sz_cls_1000_unkn_cls_True/test.parquet\n",
      "current sizes_per_class: 2000\n",
      "current cur_n_class: 8\n",
      "current in_file: gs://jcosme/clean_data/genomics/data_splits_inverse_1_mer/train.parquet\n",
      "saving gs://jcosme/clean_data/genomics/datasets/num_cls_8_sz_cls_2000_unkn_cls_True/train.parquet\n",
      "current in_file: gs://jcosme/clean_data/genomics/data_splits_inverse_1_mer/val.parquet\n",
      "saving gs://jcosme/clean_data/genomics/datasets/num_cls_8_sz_cls_2000_unkn_cls_True/val.parquet\n",
      "current in_file: gs://jcosme/clean_data/genomics/data_splits_inverse_1_mer/test.parquet\n",
      "saving gs://jcosme/clean_data/genomics/datasets/num_cls_8_sz_cls_2000_unkn_cls_True/test.parquet\n",
      "current sizes_per_class: 4000\n",
      "current cur_n_class: 8\n",
      "current in_file: gs://jcosme/clean_data/genomics/data_splits_inverse_1_mer/train.parquet\n",
      "saving gs://jcosme/clean_data/genomics/datasets/num_cls_8_sz_cls_4000_unkn_cls_True/train.parquet\n",
      "current in_file: gs://jcosme/clean_data/genomics/data_splits_inverse_1_mer/val.parquet\n",
      "saving gs://jcosme/clean_data/genomics/datasets/num_cls_8_sz_cls_4000_unkn_cls_True/val.parquet\n",
      "current in_file: gs://jcosme/clean_data/genomics/data_splits_inverse_1_mer/test.parquet\n",
      "saving gs://jcosme/clean_data/genomics/datasets/num_cls_8_sz_cls_4000_unkn_cls_True/test.parquet\n",
      "current sizes_per_class: 500\n",
      "current cur_n_class: 16\n",
      "current in_file: gs://jcosme/clean_data/genomics/data_splits_inverse_1_mer/train.parquet\n",
      "saving gs://jcosme/clean_data/genomics/datasets/num_cls_16_sz_cls_500_unkn_cls_True/train.parquet\n",
      "current in_file: gs://jcosme/clean_data/genomics/data_splits_inverse_1_mer/val.parquet\n",
      "saving gs://jcosme/clean_data/genomics/datasets/num_cls_16_sz_cls_500_unkn_cls_True/val.parquet\n",
      "current in_file: gs://jcosme/clean_data/genomics/data_splits_inverse_1_mer/test.parquet\n",
      "saving gs://jcosme/clean_data/genomics/datasets/num_cls_16_sz_cls_500_unkn_cls_True/test.parquet\n",
      "current sizes_per_class: 1000\n",
      "current cur_n_class: 16\n",
      "current in_file: gs://jcosme/clean_data/genomics/data_splits_inverse_1_mer/train.parquet\n",
      "saving gs://jcosme/clean_data/genomics/datasets/num_cls_16_sz_cls_1000_unkn_cls_True/train.parquet\n",
      "current in_file: gs://jcosme/clean_data/genomics/data_splits_inverse_1_mer/val.parquet\n",
      "saving gs://jcosme/clean_data/genomics/datasets/num_cls_16_sz_cls_1000_unkn_cls_True/val.parquet\n",
      "current in_file: gs://jcosme/clean_data/genomics/data_splits_inverse_1_mer/test.parquet\n",
      "saving gs://jcosme/clean_data/genomics/datasets/num_cls_16_sz_cls_1000_unkn_cls_True/test.parquet\n",
      "current sizes_per_class: 2000\n",
      "current cur_n_class: 16\n",
      "current in_file: gs://jcosme/clean_data/genomics/data_splits_inverse_1_mer/train.parquet\n",
      "saving gs://jcosme/clean_data/genomics/datasets/num_cls_16_sz_cls_2000_unkn_cls_True/train.parquet\n",
      "current in_file: gs://jcosme/clean_data/genomics/data_splits_inverse_1_mer/val.parquet\n",
      "saving gs://jcosme/clean_data/genomics/datasets/num_cls_16_sz_cls_2000_unkn_cls_True/val.parquet\n",
      "current in_file: gs://jcosme/clean_data/genomics/data_splits_inverse_1_mer/test.parquet\n",
      "saving gs://jcosme/clean_data/genomics/datasets/num_cls_16_sz_cls_2000_unkn_cls_True/test.parquet\n",
      "current sizes_per_class: 4000\n",
      "current cur_n_class: 16\n",
      "current in_file: gs://jcosme/clean_data/genomics/data_splits_inverse_1_mer/train.parquet\n",
      "saving gs://jcosme/clean_data/genomics/datasets/num_cls_16_sz_cls_4000_unkn_cls_True/train.parquet\n",
      "current in_file: gs://jcosme/clean_data/genomics/data_splits_inverse_1_mer/val.parquet\n",
      "saving gs://jcosme/clean_data/genomics/datasets/num_cls_16_sz_cls_4000_unkn_cls_True/val.parquet\n",
      "current in_file: gs://jcosme/clean_data/genomics/data_splits_inverse_1_mer/test.parquet\n",
      "saving gs://jcosme/clean_data/genomics/datasets/num_cls_16_sz_cls_4000_unkn_cls_True/test.parquet\n"
     ]
    }
   ],
   "source": [
    "for c_i, cur_n_class in enumerate(numbers_of_classes):\n",
    "    for s_i, cur_size in enumerate(sizes_per_class):\n",
    "        print(f\"current sizes_per_class: {cur_size}\")\n",
    "        print(f\"current cur_n_class: {cur_n_class}\")\n",
    "        cur_name = f\"num_cls_{cur_n_class}_sz_cls_{cur_size}_unkn_cls_{do_unknown_class}\"\n",
    "        cur_out_dir = f\"{out_base_dir}/{cur_name}\"\n",
    "        #print(cur_out_dir)\n",
    "        \n",
    "        #print(f\"randomly selecting {cur_n_class} of {total_classes} classes\")\n",
    "        if do_rand_seed:\n",
    "            np.random.seed(rand_seed)\n",
    "        cur_selected_classes = np.random.choice(all_classes, cur_n_class, replace=False)\n",
    "        \n",
    "        for i, in_file in enumerate(split_files):\n",
    "            cur_split = split_names[i].split('.')[0]\n",
    "            cur_perc = splits[cur_split]\n",
    "            print(f\"current in_file: {in_file}\")\n",
    "            #print(f\"current split: {cur_split}\\ncurrent percent: {cur_perc}\")\n",
    "\n",
    "            selected_classes = cur_selected_classes.copy()\n",
    "            size_per_class = cur_size\n",
    "            if cur_split != 'train':\n",
    "                #print(\"not train!\")\n",
    "                size_per_class /= splits['train']\n",
    "                size_per_class *= cur_perc\n",
    "                size_per_class = int(round(size_per_class))\n",
    "            #print(f\"current size_per_class: {size_per_class}\")\n",
    "\n",
    "            df = dask_cudf.read_parquet(in_file, partition_size=partition_size)\n",
    "\n",
    "            if do_unknown_class:\n",
    "                #print(f\"adding unknown class name to list\")\n",
    "                selected_classes = np.sort(np.append(name_for_unknown_class, selected_classes))\n",
    "                df = df.map_partitions(add_unknown_class)\n",
    "            else:\n",
    "                #print(f\"sorting selected class names\")\n",
    "                selected_classes = np.sort(selected_classes)\n",
    "\n",
    "\n",
    "            #print(f\"saving temp df...\")\n",
    "            _ = df.to_parquet(temp_df_file)\n",
    "            #print(f\"reading temp df...\")\n",
    "            df = dask_cudf.read_parquet(temp_df_file, partition_size=partition_size)\n",
    "\n",
    "            #print(f\"performing random selections per class...\")\n",
    "            out_df = []\n",
    "            total_classes = len(selected_classes)\n",
    "            for cur_class_i, cur_class in enumerate(selected_classes):\n",
    "                #print(f\"\\tclass {cur_class_i + 1} of {total_classes}: {cur_class}\")\n",
    "                temp_ddf = df[df[tgt_col] == cur_class].copy() \n",
    "                temp_row_cnt = len(temp_ddf)  # get the number of observations\n",
    "                cur_sample_amt = min([size_per_class, temp_row_cnt])\n",
    "                #print(f\"\\ttarget sample size is {cur_sample_amt}\")\n",
    "                keep_frac = float(cur_sample_amt / temp_row_cnt)\n",
    "                temp_ddf = temp_ddf.sample(frac=keep_frac, replace=False, random_state=rand_seed)\n",
    "                out_df.append(temp_ddf.copy())\n",
    "                client.cancel(temp_ddf)\n",
    "            #print(f\"concating dataframes...\")\n",
    "            out_df = dask_cudf.concat(out_df).reset_index(True)\n",
    "            client.cancel(df)\n",
    "\n",
    "            cur_out_file = f\"{cur_out_dir}/{cur_split}.parquet\"\n",
    "            print(f\"saving {cur_out_file}\")\n",
    "            _ = out_df.to_parquet(cur_out_file)\n",
    "\n",
    "            client.cancel(out_df)\n",
    "\n",
    "            try:\n",
    "                rmtree(temp_df_file)\n",
    "            except:\n",
    "                pass"
   ]
  },
  {
   "cell_type": "code",
   "execution_count": 15,
   "id": "e619572d-cd1b-416b-9c98-fece1cf9e75b",
   "metadata": {},
   "outputs": [
    {
     "name": "stdout",
     "output_type": "stream",
     "text": [
      "shutting down Dask client\n",
      "finished\n"
     ]
    }
   ],
   "source": [
    "print(f\"shutting down Dask client\")\n",
    "client.shutdown()\n",
    "print(f\"finished\")"
   ]
  },
  {
   "cell_type": "code",
   "execution_count": null,
   "id": "255e9d41-7a14-453f-a8a3-fdef37e29bf4",
   "metadata": {},
   "outputs": [],
   "source": []
  }
 ],
 "metadata": {
  "kernelspec": {
   "display_name": "Python 3 (ipykernel)",
   "language": "python",
   "name": "python3"
  },
  "language_info": {
   "codemirror_mode": {
    "name": "ipython",
    "version": 3
   },
   "file_extension": ".py",
   "mimetype": "text/x-python",
   "name": "python",
   "nbconvert_exporter": "python",
   "pygments_lexer": "ipython3",
   "version": "3.8.13"
  }
 },
 "nbformat": 4,
 "nbformat_minor": 5
}
