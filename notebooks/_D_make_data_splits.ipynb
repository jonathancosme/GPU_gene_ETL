{
 "cells": [
  {
   "cell_type": "code",
   "execution_count": 1,
   "id": "7d6b0886-1656-442c-b6cb-e8fb7f45584c",
   "metadata": {},
   "outputs": [],
   "source": [
    "from dask.distributed import Client\n",
    "from dask_cuda import LocalCUDACluster\n",
    "import dask_cudf\n",
    "import argparse\n",
    "import yaml\n",
    "from pprint import pprint\n",
    "from shutil import rmtree"
   ]
  },
  {
   "cell_type": "code",
   "execution_count": 2,
   "id": "0cfe7c52-ee4a-408d-875f-be2021db5b9a",
   "metadata": {},
   "outputs": [],
   "source": [
    "cur_dir = '/home/jovyan/work/projects/GPU_gene_ETL'\n",
    "config_subdir = 'configs/make_data_splits_config.yaml'"
   ]
  },
  {
   "cell_type": "code",
   "execution_count": 3,
   "id": "608a70ea-7442-450a-877a-345f3faae8a3",
   "metadata": {},
   "outputs": [],
   "source": [
    "config_dir = f\"{cur_dir}/{config_subdir}\""
   ]
  },
  {
   "cell_type": "code",
   "execution_count": 4,
   "id": "cda4445f-26aa-4472-b8b8-eddb7bf7062a",
   "metadata": {},
   "outputs": [
    {
     "name": "stdout",
     "output_type": "stream",
     "text": [
      "loading yaml file...\n",
      "{'CUDA_VISIBLE_DEVICES': '0',\n",
      " 'do_cuda_vis_dev': False,\n",
      " 'do_rand_seed': True,\n",
      " 'in_file': 'gs://jcosme/clean_data/genomics/MarRef_species.parquet',\n",
      " 'out_dir': 'gs://jcosme/clean_data/genomics/data_splits',\n",
      " 'partition_size': '100M',\n",
      " 'rand_seed': 42,\n",
      " 'splits': {'test': 0.08, 'train': 0.84, 'val': 0.08}}\n"
     ]
    }
   ],
   "source": [
    "print(f\"loading yaml file...\")\n",
    "config = yaml.safe_load(open(config_dir, 'r'))\n",
    "pprint(config)"
   ]
  },
  {
   "cell_type": "code",
   "execution_count": 5,
   "id": "7d7439ea-0960-4611-a7a3-33b808f0ef07",
   "metadata": {},
   "outputs": [],
   "source": [
    "in_file = config['in_file']  \n",
    "out_dir = config['out_dir']  \n",
    "splits = config['splits']  \n",
    "rand_seed = config['rand_seed']  \n",
    "do_rand_seed = config['do_rand_seed']  \n",
    "\n",
    "CUDA_VISIBLE_DEVICES = config['CUDA_VISIBLE_DEVICES']  \n",
    "do_cuda_vis_dev = config['do_cuda_vis_dev']  \n",
    "partition_size = config['partition_size']  "
   ]
  },
  {
   "cell_type": "code",
   "execution_count": 6,
   "id": "8ef1381b-5bd0-4015-9dc5-0daa0c81387d",
   "metadata": {},
   "outputs": [],
   "source": [
    "split_names = []\n",
    "split_perc = []\n",
    "for key, val in splits.items():\n",
    "    split_names.append(key)\n",
    "    split_perc.append(val)"
   ]
  },
  {
   "cell_type": "code",
   "execution_count": 7,
   "id": "bb64329a-05b1-45d1-87f4-7ad9c421db91",
   "metadata": {},
   "outputs": [],
   "source": [
    "# turn off random seed if needed\n",
    "if not do_rand_seed:\n",
    "    rand_seed = None"
   ]
  },
  {
   "cell_type": "code",
   "execution_count": 8,
   "id": "5d0265e9-2bc5-49fd-a99b-7be9c2c78fda",
   "metadata": {},
   "outputs": [],
   "source": [
    "tmp_dask_dir = '/tmp/dask'\n",
    "try:\n",
    "    rmtree(tmp_dask_dir)\n",
    "except:\n",
    "    pass"
   ]
  },
  {
   "cell_type": "code",
   "execution_count": 9,
   "id": "bc1b5ef4-9542-42d9-a973-05aaa3d3480d",
   "metadata": {},
   "outputs": [
    {
     "name": "stdout",
     "output_type": "stream",
     "text": [
      "starting Dask GPU cluster...\n"
     ]
    },
    {
     "name": "stderr",
     "output_type": "stream",
     "text": [
      "2022-07-13 01:11:36,938 - distributed.preloading - INFO - Import preload module: dask_cuda.initialize\n",
      "2022-07-13 01:11:36,958 - distributed.preloading - INFO - Import preload module: dask_cuda.initialize\n"
     ]
    }
   ],
   "source": [
    "print(f\"starting Dask GPU cluster...\")\n",
    "if do_cuda_vis_dev:\n",
    "    cluster = LocalCUDACluster(\n",
    "        protocol=\"ucx\",\n",
    "        enable_tcp_over_ucx=True,\n",
    "        CUDA_VISIBLE_DEVICES=CUDA_VISIBLE_DEVICES,\n",
    "        local_directory=tmp_dask_dir,\n",
    "    )\n",
    "else:\n",
    "    cluster = LocalCUDACluster(\n",
    "        protocol=\"ucx\",\n",
    "        enable_tcp_over_ucx=True,\n",
    "        local_directory=tmp_dask_dir,\n",
    "    )\n",
    "client = Client(cluster)"
   ]
  },
  {
   "cell_type": "code",
   "execution_count": 10,
   "id": "d36aff94-68f4-4fdc-96f3-0721b766174c",
   "metadata": {},
   "outputs": [
    {
     "name": "stdout",
     "output_type": "stream",
     "text": [
      "reading file gs://jcosme/clean_data/genomics/MarRef_species.parquet\n"
     ]
    }
   ],
   "source": [
    "# first we create the Dask dataframe\n",
    "print(f\"reading file {in_file}\")\n",
    "df = dask_cudf.read_parquet(in_file,  # location of raw file\n",
    "                        partition_size=partition_size,\n",
    "                        )"
   ]
  },
  {
   "cell_type": "code",
   "execution_count": 11,
   "id": "17c499d8-01be-4376-987a-207fbdfc23f4",
   "metadata": {},
   "outputs": [
    {
     "name": "stdout",
     "output_type": "stream",
     "text": [
      "splitting data\n"
     ]
    }
   ],
   "source": [
    "print(f\"splitting data\")\n",
    "df_split = df.random_split(split_perc, random_state=rand_seed)"
   ]
  },
  {
   "cell_type": "code",
   "execution_count": 12,
   "id": "d6dfe684-1a5a-440e-a0b2-347c791d3624",
   "metadata": {},
   "outputs": [
    {
     "name": "stdout",
     "output_type": "stream",
     "text": [
      "saving train data to gs://jcosme/clean_data/genomics/data_splits/train.parquet\n",
      "saving val data to gs://jcosme/clean_data/genomics/data_splits/val.parquet\n",
      "saving test data to gs://jcosme/clean_data/genomics/data_splits/test.parquet\n"
     ]
    }
   ],
   "source": [
    "for i, cur_split in enumerate(df_split):\n",
    "    cur_out_file = f\"{out_dir}/{split_names[i]}.parquet\"\n",
    "    print(f\"saving {split_names[i]} data to {cur_out_file}\")\n",
    "    # the final step is to save the cleaned data.\n",
    "    _ = cur_split.reset_index(True).to_parquet(cur_out_file)"
   ]
  },
  {
   "cell_type": "code",
   "execution_count": 13,
   "id": "0ac62a48-7a09-4a44-a2e2-7ec9e9e89bfe",
   "metadata": {},
   "outputs": [
    {
     "name": "stdout",
     "output_type": "stream",
     "text": [
      "shutting down Dask client\n",
      "finished\n"
     ]
    }
   ],
   "source": [
    "print(f\"shutting down Dask client\")\n",
    "client.shutdown()\n",
    "print(f\"finished\")"
   ]
  },
  {
   "cell_type": "code",
   "execution_count": null,
   "id": "f5a01176-0361-4634-8ca9-0479f0c964c0",
   "metadata": {},
   "outputs": [],
   "source": []
  }
 ],
 "metadata": {
  "kernelspec": {
   "display_name": "Python 3 (ipykernel)",
   "language": "python",
   "name": "python3"
  },
  "language_info": {
   "codemirror_mode": {
    "name": "ipython",
    "version": 3
   },
   "file_extension": ".py",
   "mimetype": "text/x-python",
   "name": "python",
   "nbconvert_exporter": "python",
   "pygments_lexer": "ipython3",
   "version": "3.8.13"
  }
 },
 "nbformat": 4,
 "nbformat_minor": 5
}
