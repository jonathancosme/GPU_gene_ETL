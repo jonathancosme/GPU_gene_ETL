{
 "cells": [
  {
   "cell_type": "code",
   "execution_count": 1,
   "id": "b622f492-d577-46a5-9941-1a49178a2eeb",
   "metadata": {},
   "outputs": [],
   "source": [
    "from dask.distributed import Client\n",
    "from dask_cuda import LocalCUDACluster\n",
    "import dask_cudf\n",
    "import argparse\n",
    "import yaml\n",
    "from pprint import pprint\n",
    "from shutil import rmtree"
   ]
  },
  {
   "cell_type": "code",
   "execution_count": 2,
   "id": "2c059500-5ced-4269-aec0-93cf25550304",
   "metadata": {},
   "outputs": [],
   "source": [
    "cur_dir = '/home/jovyan/work/projects/GPU_gene_ETL'\n",
    "config_subdir = 'configs/remove_inverse_config.yaml'"
   ]
  },
  {
   "cell_type": "code",
   "execution_count": 3,
   "id": "46467d5d-826d-4e8e-b5dc-cecafc35349d",
   "metadata": {},
   "outputs": [],
   "source": [
    "config_dir = f\"{cur_dir}/{config_subdir}\""
   ]
  },
  {
   "cell_type": "code",
   "execution_count": 4,
   "id": "6b6369d1-2c38-4275-8cbc-42b24ddf9efc",
   "metadata": {},
   "outputs": [
    {
     "name": "stdout",
     "output_type": "stream",
     "text": [
      "loading yaml file...\n",
      "{'CUDA_VISIBLE_DEVICES': '0',\n",
      " 'base_col_names': ['seq', 'label'],\n",
      " 'do_cuda_vis_dev': False,\n",
      " 'drop_col': 'label',\n",
      " 'in_file': 'gs://jcosme/clean_data/genomics/MarRef_training.parquet',\n",
      " 'out_file': 'gs://jcosme/clean_data/genomics/MarRef_inverse_rm.parquet',\n",
      " 'partition_size': '100M',\n",
      " 'remove_str': '/2'}\n"
     ]
    }
   ],
   "source": [
    "print(f\"loading yaml file...\")\n",
    "config = yaml.safe_load(open(config_dir, 'r'))\n",
    "pprint(config)"
   ]
  },
  {
   "cell_type": "code",
   "execution_count": 5,
   "id": "d25ba035-1c87-4b40-b5de-ce2195fa947e",
   "metadata": {},
   "outputs": [],
   "source": [
    "in_file = config['in_file']  \n",
    "out_file = config['out_file']  \n",
    "base_col_names = config['base_col_names']  \n",
    "remove_str = config['remove_str']  \n",
    "drop_col = config['drop_col']  \n",
    "CUDA_VISIBLE_DEVICES = config['CUDA_VISIBLE_DEVICES']  \n",
    "do_cuda_vis_dev = config['do_cuda_vis_dev']  \n",
    "partition_size = config['partition_size']  "
   ]
  },
  {
   "cell_type": "code",
   "execution_count": 6,
   "id": "e22bdcc9-f0e4-4b53-ad86-bed0bdf24f92",
   "metadata": {},
   "outputs": [],
   "source": [
    "tmp_dask_dir = '/tmp/dask'\n",
    "try:\n",
    "    rmtree(tmp_dask_dir)\n",
    "except:\n",
    "    pass"
   ]
  },
  {
   "cell_type": "code",
   "execution_count": 7,
   "id": "984dd73d-9526-4ea0-901b-f991208383a5",
   "metadata": {},
   "outputs": [
    {
     "name": "stdout",
     "output_type": "stream",
     "text": [
      "starting Dask GPU cluster...\n"
     ]
    },
    {
     "name": "stderr",
     "output_type": "stream",
     "text": [
      "2022-07-13 00:54:42,066 - distributed.preloading - INFO - Import preload module: dask_cuda.initialize\n",
      "2022-07-13 00:54:42,096 - distributed.preloading - INFO - Import preload module: dask_cuda.initialize\n"
     ]
    }
   ],
   "source": [
    "print(f\"starting Dask GPU cluster...\")\n",
    "\n",
    "if do_cuda_vis_dev:\n",
    "    cluster = LocalCUDACluster(\n",
    "        protocol=\"ucx\",\n",
    "        enable_tcp_over_ucx=True,\n",
    "        CUDA_VISIBLE_DEVICES=CUDA_VISIBLE_DEVICES,\n",
    "        local_directory=tmp_dask_dir,\n",
    "    )\n",
    "else:\n",
    "    cluster = LocalCUDACluster(\n",
    "        protocol=\"ucx\",\n",
    "        enable_tcp_over_ucx=True,\n",
    "        local_directory=tmp_dask_dir,\n",
    "    )\n",
    "client = Client(cluster)"
   ]
  },
  {
   "cell_type": "code",
   "execution_count": 8,
   "id": "50c8d493-04ef-4cac-912e-4882381ed14f",
   "metadata": {},
   "outputs": [
    {
     "name": "stdout",
     "output_type": "stream",
     "text": [
      "reading file gs://jcosme/clean_data/genomics/MarRef_training.parquet\n"
     ]
    }
   ],
   "source": [
    "# first we create the Dask dataframe\n",
    "print(f\"reading file {in_file}\")\n",
    "df = dask_cudf.read_parquet(in_file,  # location of raw file\n",
    "                        partition_size=partition_size,\n",
    "                        )"
   ]
  },
  {
   "cell_type": "code",
   "execution_count": 9,
   "id": "c497b349-33cc-4b8e-b92b-60a44b12d626",
   "metadata": {},
   "outputs": [],
   "source": [
    "# def remove_str_rows(df):\n",
    "#     keep_mask = df[drop_col].str.rfind(remove_str) == -1\n",
    "#     df = df.loc[keep_mask]\n",
    "#     return df"
   ]
  },
  {
   "cell_type": "code",
   "execution_count": 10,
   "id": "d60d601e-f59f-4318-a0be-6c7699a7bd9d",
   "metadata": {},
   "outputs": [],
   "source": [
    "# print(f\"dropping rows with '{remove_str}' from {drop_col}\")\n",
    "# df = df.map_partitions(remove_str_rows).reset_index(True)"
   ]
  },
  {
   "cell_type": "code",
   "execution_count": 11,
   "id": "272a4563-a998-4549-ae80-b09dfc4838d1",
   "metadata": {},
   "outputs": [],
   "source": [
    "#len(df)\n",
    "#14864656"
   ]
  },
  {
   "cell_type": "code",
   "execution_count": 12,
   "id": "ef9cb938-cac1-4d7d-a714-6b8357e84e6a",
   "metadata": {},
   "outputs": [],
   "source": [
    "has_str_mask = df[drop_col].str.contains(remove_str, regex=False)\n",
    "df = df.loc[~has_str_mask]"
   ]
  },
  {
   "cell_type": "code",
   "execution_count": 13,
   "id": "fa3b2d76-7c8a-4635-8041-3d7fde53bb3b",
   "metadata": {},
   "outputs": [],
   "source": [
    "#len(df)\n",
    "#7432328"
   ]
  },
  {
   "cell_type": "code",
   "execution_count": 14,
   "id": "9ade0d83-8423-418e-8d3b-961654b9975e",
   "metadata": {},
   "outputs": [
    {
     "name": "stdout",
     "output_type": "stream",
     "text": [
      "saving data to gs://jcosme/clean_data/genomics/MarRef_inverse_rm.parquet\n"
     ]
    }
   ],
   "source": [
    "print(f\"saving data to {out_file}\")\n",
    "# the final step is to save the cleaned data.\n",
    "_ = df.to_parquet(out_file)"
   ]
  },
  {
   "cell_type": "code",
   "execution_count": 15,
   "id": "6627a5e9-b1dc-4704-99d0-9b20fea001a6",
   "metadata": {},
   "outputs": [
    {
     "name": "stdout",
     "output_type": "stream",
     "text": [
      "shutting down Dask client\n",
      "finished\n"
     ]
    }
   ],
   "source": [
    "client.cancel(df)\n",
    "print(f\"shutting down Dask client\")\n",
    "client.shutdown()\n",
    "print(f\"finished\")"
   ]
  },
  {
   "cell_type": "code",
   "execution_count": null,
   "id": "47cae840-027f-4697-ae7a-2b7cf00d2723",
   "metadata": {},
   "outputs": [],
   "source": []
  }
 ],
 "metadata": {
  "kernelspec": {
   "display_name": "Python 3 (ipykernel)",
   "language": "python",
   "name": "python3"
  },
  "language_info": {
   "codemirror_mode": {
    "name": "ipython",
    "version": 3
   },
   "file_extension": ".py",
   "mimetype": "text/x-python",
   "name": "python",
   "nbconvert_exporter": "python",
   "pygments_lexer": "ipython3",
   "version": "3.8.13"
  }
 },
 "nbformat": 4,
 "nbformat_minor": 5
}
