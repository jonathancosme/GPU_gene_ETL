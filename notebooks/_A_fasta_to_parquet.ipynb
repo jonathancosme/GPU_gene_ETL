{
 "cells": [
  {
   "cell_type": "code",
   "execution_count": null,
   "id": "9be0e382-aefc-4be5-bc03-c2f5a2d979ad",
   "metadata": {},
   "outputs": [],
   "source": [
    "from dask.distributed import Client\n",
    "from dask_cuda import LocalCUDACluster\n",
    "import dask_cudf\n",
    "import argparse\n",
    "import yaml\n",
    "from pprint import pprint"
   ]
  },
  {
   "cell_type": "code",
   "execution_count": null,
   "id": "2c3b684f-b357-4044-9704-6ec73277f27b",
   "metadata": {},
   "outputs": [],
   "source": [
    "cur_dir = '/home/jovyan/work/projects/COSME'\n",
    "config_subdir = '/configs/fasta_to_parquet_config.yaml'"
   ]
  },
  {
   "cell_type": "code",
   "execution_count": null,
   "id": "8fcb119e-ac14-4af6-8c66-92a3f8409036",
   "metadata": {},
   "outputs": [],
   "source": [
    "config_dir = f\"{cur_dir}/{config_subdir}\""
   ]
  },
  {
   "cell_type": "code",
   "execution_count": null,
   "id": "c4b87e24-08c3-4d29-b3ba-adfa5156fd88",
   "metadata": {},
   "outputs": [],
   "source": [
    "print(f\"loading yaml file...\")\n",
    "config = open(config_dir, 'r').read()\n",
    "pprint(config_yaml_data)"
   ]
  },
  {
   "cell_type": "code",
   "execution_count": null,
   "id": "cab17338-47ad-4f6c-aa80-42a997c87e46",
   "metadata": {},
   "outputs": [],
   "source": [
    "raw_fasta_file = config['raw_fasta_file']  \n",
    "clean_fasta_file = config['clean_fasta_file']  \n",
    "base_col_names = config['base_col_names']  \n",
    "fasta_sep = config['fasta_sep']  \n",
    "CUDA_VISIBLE_DEVICES = config['CUDA_VISIBLE_DEVICES']  \n",
    "do_cuda_vis_dev = config['do_cuda_vis_dev']  \n",
    "partition_size = config['partition_size']  "
   ]
  },
  {
   "cell_type": "code",
   "execution_count": null,
   "id": "a0524105-b03c-4774-97ac-a25fb77e2457",
   "metadata": {},
   "outputs": [],
   "source": [
    "print(f\"starting Dask GPU cluster...\")\n",
    "if do_cuda_vis_dev:\n",
    "    cluster = LocalCUDACluster(\n",
    "        protocol=\"ucx\",\n",
    "        enable_tcp_over_ucx=True,\n",
    "        CUDA_VISIBLE_DEVICES=CUDA_VISIBLE_DEVICES,\n",
    "        local_directory='/tmp',\n",
    "    )\n",
    "else:\n",
    "    cluster = LocalCUDACluster(\n",
    "        protocol=\"ucx\",\n",
    "        enable_tcp_over_ucx=True,\n",
    "        local_directory='/tmp',\n",
    "    )\n",
    "client = Client(cluster)"
   ]
  },
  {
   "cell_type": "code",
   "execution_count": null,
   "id": "36c07443-0c73-49dc-aa13-a647d82a3274",
   "metadata": {},
   "outputs": [],
   "source": [
    "# first we create the Dask dataframe\n",
    "print(f\"reading .fasta file {raw_fasta_file}\")\n",
    "df = dask_cudf.read_csv(raw_fasta_file,  # location of raw file\n",
    "                        sep=fasta_sep,  # this is the '>' sign\n",
    "                        names=base_col_names,  # column names\n",
    "                        dtype=str,  # data type\n",
    "                        partition_size=partition_size,\n",
    "                        )"
   ]
  },
  {
   "cell_type": "code",
   "execution_count": null,
   "id": "9f5dcca2-9e6d-4e44-966c-90be4909debd",
   "metadata": {},
   "outputs": [],
   "source": [
    "# now we have to shift the data, in order to correct the wrong offset\n",
    "print(f\"shifting data...\")\n",
    "df['label'] = df['label'].shift()\n",
    "\n",
    "# finally, we drop all empty rows, and reset the index\n",
    "print(f\"dropping empty rows...\")\n",
    "df = df.dropna().reset_index(drop=True)\n",
    "\n",
    "print(f\"saving cleaned data to {clean_fasta_file}\")\n",
    "# the final step is to save the cleaned data.\n",
    "_ = df.to_parquet(clean_fasta_file)"
   ]
  },
  {
   "cell_type": "code",
   "execution_count": null,
   "id": "5d8826eb-b418-4da1-b7be-dfb0f6b43035",
   "metadata": {},
   "outputs": [],
   "source": [
    "print(f\"shutting down Dask client\")\n",
    "client.shutdown()\n",
    "print(f\"finished\")"
   ]
  }
 ],
 "metadata": {
  "kernelspec": {
   "display_name": "mlflow",
   "language": "python",
   "name": "mlflow"
  },
  "language_info": {
   "codemirror_mode": {
    "name": "ipython",
    "version": 3
   },
   "file_extension": ".py",
   "mimetype": "text/x-python",
   "name": "python",
   "nbconvert_exporter": "python",
   "pygments_lexer": "ipython3",
   "version": "3.8.13"
  }
 },
 "nbformat": 4,
 "nbformat_minor": 5
}
