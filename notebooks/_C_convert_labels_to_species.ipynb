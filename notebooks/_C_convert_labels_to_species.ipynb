{
 "cells": [
  {
   "cell_type": "code",
   "execution_count": null,
   "id": "9a4f74fb-b42e-4333-b403-e23eb3f5e34e",
   "metadata": {},
   "outputs": [],
   "source": [
    "from dask.distributed import Client\n",
    "from dask_cuda import LocalCUDACluster\n",
    "import dask_cudf\n",
    "import argparse\n",
    "import yaml\n",
    "from pprint import pprint"
   ]
  },
  {
   "cell_type": "code",
   "execution_count": null,
   "id": "ba7b5367-1f0e-444e-be59-ae72775f4f2f",
   "metadata": {},
   "outputs": [],
   "source": [
    "cur_dir = '/home/jovyan/work/projects/COSME'\n",
    "config_subdir = '/configs/convert_labels_to_species_config.yaml'"
   ]
  },
  {
   "cell_type": "code",
   "execution_count": null,
   "id": "2ad7ce51-1be0-4b84-9d65-af1a2cb11627",
   "metadata": {},
   "outputs": [],
   "source": [
    "config_dir = f\"{cur_dir}/{config_subdir}\""
   ]
  },
  {
   "cell_type": "code",
   "execution_count": null,
   "id": "43874ab4-7f9f-4f91-b4c7-da05e047de9c",
   "metadata": {},
   "outputs": [],
   "source": [
    "print(f\"loading yaml file...\")\n",
    "config = open(config_dir, 'r').read()\n",
    "pprint(config_yaml_data)"
   ]
  },
  {
   "cell_type": "code",
   "execution_count": null,
   "id": "40be8031-f8ab-48d3-bd97-7aa9f4ef4546",
   "metadata": {},
   "outputs": [],
   "source": [
    "in_file = config['in_file']  \n",
    "out_file = config['out_file']  \n",
    "unq_label_out_file = config['unq_label_out_file']  \n",
    "label_col_name = config['label_col_name']  \n",
    "label_regex = config['label_regex']    \n",
    "CUDA_VISIBLE_DEVICES = config['CUDA_VISIBLE_DEVICES']  \n",
    "do_cuda_vis_dev = config['do_cuda_vis_dev']  \n",
    "partition_size = config['partition_size']  "
   ]
  },
  {
   "cell_type": "code",
   "execution_count": null,
   "id": "adf2b38a-474a-43b7-b02f-81fb434ed99d",
   "metadata": {},
   "outputs": [],
   "source": [
    "print(f\"starting Dask GPU cluster...\")\n",
    "if do_cuda_vis_dev:\n",
    "    cluster = LocalCUDACluster(\n",
    "        protocol=\"ucx\",\n",
    "        enable_tcp_over_ucx=True,\n",
    "        CUDA_VISIBLE_DEVICES=CUDA_VISIBLE_DEVICES,\n",
    "        local_directory='/tmp',\n",
    "    )\n",
    "else:\n",
    "    cluster = LocalCUDACluster(\n",
    "        protocol=\"ucx\",\n",
    "        enable_tcp_over_ucx=True,\n",
    "        local_directory='/tmp',\n",
    "    )\n",
    "client = Client(cluster)"
   ]
  },
  {
   "cell_type": "code",
   "execution_count": null,
   "id": "278d0d2a-af28-4a10-b49e-c6ad8b726f87",
   "metadata": {},
   "outputs": [],
   "source": [
    "# first we create the Dask dataframe\n",
    "print(f\"reading file {in_file}\")\n",
    "df = dask_cudf.read_parquet(in_file,  # location of raw file\n",
    "                        partition_size=partition_size,\n",
    "                        )"
   ]
  },
  {
   "cell_type": "code",
   "execution_count": null,
   "id": "798223b9-9a87-4d4a-ba3c-439906c3981c",
   "metadata": {},
   "outputs": [],
   "source": [
    "def extract_labels(df):\n",
    "        df[label_col_name] = df[label_col_name].str.extract(label_regex).loc[:, 0]\n",
    "        return df"
   ]
  },
  {
   "cell_type": "code",
   "execution_count": null,
   "id": "281eaa1e-8946-40df-85a5-41df472a40ea",
   "metadata": {},
   "outputs": [],
   "source": [
    "print(f\"extracting labels...\")\n",
    "df = df.map_partitions(extract_labels)\n",
    "\n",
    "print(f\"saving data to {out_file}\")\n",
    "# the final step is to save the cleaned data.\n",
    "_ = df.to_parquet(out_file)"
   ]
  },
  {
   "cell_type": "code",
   "execution_count": 2,
   "id": "9d01296b-6ca1-49f4-ab22-00b0e0a6e175",
   "metadata": {},
   "outputs": [],
   "source": [
    "print(f\"creating unique labels...\")\n",
    "del df\n",
    "df = dask_cudf.read_parquet(out_file)\n",
    "unq_labs_df = df[label_col_name].unique().to_frame().reset_index(True)\n",
    "print(f\"saving data to {unq_label_out_file}\")\n",
    "_ = unq_labs_df.to_parquet(unq_label_out_file)"
   ]
  },
  {
   "cell_type": "code",
   "execution_count": null,
   "id": "33f1c788-46da-4e09-b3fe-7b98c16c40ff",
   "metadata": {},
   "outputs": [],
   "source": [
    "print(f\"shutting down Dask client\")\n",
    "client.shutdown()\n",
    "print(f\"finished\")"
   ]
  }
 ],
 "metadata": {
  "kernelspec": {
   "display_name": "mlflow",
   "language": "python",
   "name": "mlflow"
  },
  "language_info": {
   "codemirror_mode": {
    "name": "ipython",
    "version": 3
   },
   "file_extension": ".py",
   "mimetype": "text/x-python",
   "name": "python",
   "nbconvert_exporter": "python",
   "pygments_lexer": "ipython3",
   "version": "3.8.13"
  }
 },
 "nbformat": 4,
 "nbformat_minor": 5
}
