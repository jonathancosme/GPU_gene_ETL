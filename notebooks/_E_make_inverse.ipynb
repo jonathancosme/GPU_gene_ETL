{
 "cells": [
  {
   "cell_type": "code",
   "execution_count": 1,
   "id": "b99a0b99-309a-43c4-b699-f1a934268979",
   "metadata": {},
   "outputs": [],
   "source": [
    "from dask.distributed import Client\n",
    "from dask_cuda import LocalCUDACluster\n",
    "import dask_cudf\n",
    "import argparse\n",
    "import yaml\n",
    "from pprint import pprint\n",
    "from shutil import rmtree"
   ]
  },
  {
   "cell_type": "code",
   "execution_count": 2,
   "id": "533021a0-461a-4946-b412-7eefe993d8df",
   "metadata": {},
   "outputs": [],
   "source": [
    "cur_dir = '/home/jovyan/work/projects/GPU_gene_ETL'\n",
    "config_subdir = 'configs/make_inverse_config.yaml'"
   ]
  },
  {
   "cell_type": "code",
   "execution_count": 3,
   "id": "e1fb9717-5d54-4f99-99a5-ca736209684e",
   "metadata": {},
   "outputs": [],
   "source": [
    "config_dir = f\"{cur_dir}/{config_subdir}\""
   ]
  },
  {
   "cell_type": "code",
   "execution_count": 4,
   "id": "ed5639b4-d57b-420f-a464-261ff8bb9e71",
   "metadata": {},
   "outputs": [
    {
     "name": "stdout",
     "output_type": "stream",
     "text": [
      "loading yaml file...\n",
      "{'CUDA_VISIBLE_DEVICES': '0',\n",
      " 'do_cuda_vis_dev': False,\n",
      " 'dsplit_file': '/home/jovyan/work/projects/GPU_gene_ETL/configs/make_data_splits_config.yaml',\n",
      " 'in_dir': 'gs://jcosme/clean_data/genomics/data_splits',\n",
      " 'inverse_col': 'seq',\n",
      " 'out_dir': 'gs://jcosme/clean_data/genomics/data_splits_inverse',\n",
      " 'partition_size': '100M'}\n"
     ]
    }
   ],
   "source": [
    "print(f\"loading yaml file...\")\n",
    "config = yaml.safe_load(open(config_dir, 'r'))\n",
    "pprint(config)"
   ]
  },
  {
   "cell_type": "code",
   "execution_count": 5,
   "id": "730c4f4f-4daf-4777-b6ac-d139f78185c0",
   "metadata": {},
   "outputs": [],
   "source": [
    "in_dir = config['in_dir']  \n",
    "out_dir = config['out_dir']  \n",
    "inverse_col = config['inverse_col'] \n",
    "dsplit_file = config['dsplit_file'] \n",
    "CUDA_VISIBLE_DEVICES = config['CUDA_VISIBLE_DEVICES']  \n",
    "do_cuda_vis_dev = config['do_cuda_vis_dev']  \n",
    "partition_size = config['partition_size']  "
   ]
  },
  {
   "cell_type": "code",
   "execution_count": 6,
   "id": "7c3a2afc-13e2-47fc-a74b-85b3b4401c54",
   "metadata": {},
   "outputs": [],
   "source": [
    "dsplit_config = yaml.safe_load(open(dsplit_file, 'r'))\n",
    "splits = dsplit_config['splits']  \n",
    "\n",
    "split_names = []\n",
    "for key, val in splits.items():\n",
    "    split_names.append(key)\n",
    "\n",
    "split_names = [ x + '.parquet' for x in split_names]\n",
    "split_files = [f\"{in_dir}/{x}\" for x in split_names]\n"
   ]
  },
  {
   "cell_type": "code",
   "execution_count": 7,
   "id": "16bbf91c-cb68-4e53-9c87-b0ae34224e1e",
   "metadata": {},
   "outputs": [],
   "source": [
    "tmp_dask_dir = '/tmp/dask'\n",
    "try:\n",
    "    rmtree(tmp_dask_dir)\n",
    "except:\n",
    "    pass"
   ]
  },
  {
   "cell_type": "code",
   "execution_count": 8,
   "id": "dbe04333-e9f8-4592-b819-7fb11f50da3c",
   "metadata": {},
   "outputs": [
    {
     "name": "stdout",
     "output_type": "stream",
     "text": [
      "starting Dask GPU cluster...\n"
     ]
    },
    {
     "name": "stderr",
     "output_type": "stream",
     "text": [
      "2022-07-13 01:12:39,196 - distributed.preloading - INFO - Import preload module: dask_cuda.initialize\n",
      "2022-07-13 01:12:39,243 - distributed.preloading - INFO - Import preload module: dask_cuda.initialize\n"
     ]
    }
   ],
   "source": [
    "print(f\"starting Dask GPU cluster...\")\n",
    "if do_cuda_vis_dev:\n",
    "    cluster = LocalCUDACluster(\n",
    "        protocol=\"ucx\",\n",
    "        enable_tcp_over_ucx=True,\n",
    "        CUDA_VISIBLE_DEVICES=CUDA_VISIBLE_DEVICES,\n",
    "        local_directory=tmp_dask_dir,\n",
    "    )\n",
    "else:\n",
    "    cluster = LocalCUDACluster(\n",
    "        protocol=\"ucx\",\n",
    "        enable_tcp_over_ucx=True,\n",
    "        local_directory=tmp_dask_dir,\n",
    "    )\n",
    "client = Client(cluster)"
   ]
  },
  {
   "cell_type": "code",
   "execution_count": 9,
   "id": "f91eab7b-8a8c-4006-b2ba-0956adee3f13",
   "metadata": {},
   "outputs": [],
   "source": [
    "def get_inverse(df):\n",
    "    df[inverse_col] = df[inverse_col].str.slice(start=-1, stop=None, step=-1)\n",
    "    return df"
   ]
  },
  {
   "cell_type": "code",
   "execution_count": 10,
   "id": "1b613cf4-5d62-442f-9104-76a591bdf9c5",
   "metadata": {},
   "outputs": [
    {
     "name": "stdout",
     "output_type": "stream",
     "text": [
      "reading file gs://jcosme/clean_data/genomics/data_splits/train.parquet\n",
      "inverting column seq...\n",
      "saving data to gs://jcosme/clean_data/genomics/data_splits_inverse/train.parquet\n",
      "reading file gs://jcosme/clean_data/genomics/data_splits/val.parquet\n",
      "inverting column seq...\n",
      "saving data to gs://jcosme/clean_data/genomics/data_splits_inverse/val.parquet\n",
      "reading file gs://jcosme/clean_data/genomics/data_splits/test.parquet\n",
      "inverting column seq...\n",
      "saving data to gs://jcosme/clean_data/genomics/data_splits_inverse/test.parquet\n"
     ]
    }
   ],
   "source": [
    "for i, in_file in enumerate(split_files):\n",
    "    out_file = f\"{out_dir}/{split_names[i]}\"\n",
    "    \n",
    "    print(f\"reading file {in_file}\")\n",
    "    df = dask_cudf.read_parquet(in_file,  # location of raw file\n",
    "                            partition_size=partition_size,\n",
    "                            )\n",
    "    print(f\"inverting column {inverse_col}...\")\n",
    "    df_inverse = df.copy()\n",
    "    df_inverse = df_inverse.map_partitions(get_inverse)\n",
    "    df = dask_cudf.concat([df, df_inverse]).reset_index(True).repartition(partition_size=partition_size)\n",
    "    \n",
    "    print(f\"saving data to {out_file}\")\n",
    "    _ = df.to_parquet(out_file)\n",
    "    \n",
    "    client.cancel(df)"
   ]
  },
  {
   "cell_type": "code",
   "execution_count": 11,
   "id": "99bc273c-35a4-40af-8d5e-d0ff3c16e52f",
   "metadata": {},
   "outputs": [
    {
     "name": "stdout",
     "output_type": "stream",
     "text": [
      "shutting down Dask client\n",
      "finished\n"
     ]
    }
   ],
   "source": [
    "print(f\"shutting down Dask client\")\n",
    "client.shutdown()\n",
    "print(f\"finished\")"
   ]
  },
  {
   "cell_type": "code",
   "execution_count": null,
   "id": "cddf10be-6f7f-4d31-9698-b6bd1ae8efdd",
   "metadata": {},
   "outputs": [],
   "source": []
  }
 ],
 "metadata": {
  "kernelspec": {
   "display_name": "Python 3 (ipykernel)",
   "language": "python",
   "name": "python3"
  },
  "language_info": {
   "codemirror_mode": {
    "name": "ipython",
    "version": 3
   },
   "file_extension": ".py",
   "mimetype": "text/x-python",
   "name": "python",
   "nbconvert_exporter": "python",
   "pygments_lexer": "ipython3",
   "version": "3.8.13"
  }
 },
 "nbformat": 4,
 "nbformat_minor": 5
}
