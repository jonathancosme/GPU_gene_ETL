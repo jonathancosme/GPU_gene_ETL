{
 "cells": [
  {
   "cell_type": "code",
   "execution_count": 1,
   "id": "7c478a83-6249-483e-b351-3f9fd1e6b522",
   "metadata": {},
   "outputs": [],
   "source": [
    "from dask.distributed import Client\n",
    "from dask_cuda import LocalCUDACluster\n",
    "import dask_cudf\n",
    "import argparse\n",
    "import yaml\n",
    "from pprint import pprint\n",
    "from shutil import rmtree"
   ]
  },
  {
   "cell_type": "code",
   "execution_count": 2,
   "id": "59690101-ed71-424c-8de2-bed7b8d1b0f6",
   "metadata": {},
   "outputs": [],
   "source": [
    "cur_dir = '/home/jovyan/work/projects/GPU_gene_ETL'\n",
    "config_subdir = 'configs/make_kmers_config.yaml'"
   ]
  },
  {
   "cell_type": "code",
   "execution_count": 3,
   "id": "c8603e7c-f2b6-4a48-979f-a3e4bd353d7e",
   "metadata": {},
   "outputs": [],
   "source": [
    "config_dir = f\"{cur_dir}/{config_subdir}\""
   ]
  },
  {
   "cell_type": "code",
   "execution_count": 4,
   "id": "f74a9155-6610-4294-af10-d1be7b616873",
   "metadata": {},
   "outputs": [
    {
     "name": "stdout",
     "output_type": "stream",
     "text": [
      "loading yaml file...\n",
      "{'CUDA_VISIBLE_DEVICES': '0',\n",
      " 'do_cuda_vis_dev': False,\n",
      " 'dsplit_file': '/home/jovyan/work/projects/GPU_gene_ETL/configs/make_data_splits_config.yaml',\n",
      " 'in_dir': 'gs://jcosme/clean_data/genomics/data_splits_inverse',\n",
      " 'input_col_name': 'seq',\n",
      " 'k_mer': 1,\n",
      " 'label_col_name': 'label',\n",
      " 'max_seq_len': 150,\n",
      " 'out_dir': 'gs://jcosme/clean_data/genomics/data_splits_inverse_1_mer',\n",
      " 'partition_size': '100M',\n",
      " 'possible_gene_values': ['A', 'C', 'G', 'T']}\n"
     ]
    }
   ],
   "source": [
    "print(f\"loading yaml file...\")\n",
    "config = yaml.safe_load(open(config_dir, 'r'))\n",
    "pprint(config)"
   ]
  },
  {
   "cell_type": "code",
   "execution_count": 5,
   "id": "e9f38550-ff5f-426a-985a-9ca12bbd0161",
   "metadata": {},
   "outputs": [],
   "source": [
    "in_dir = config['in_dir']  \n",
    "out_dir = config['out_dir']  \n",
    "dsplit_file = config['dsplit_file'] \n",
    "label_col_name = config['label_col_name']  \n",
    "input_col_name = config['input_col_name']  \n",
    "k_mer = config['k_mer']  \n",
    "possible_gene_values = config['possible_gene_values']  \n",
    "max_seq_len = config['max_seq_len']  \n",
    "CUDA_VISIBLE_DEVICES = config['CUDA_VISIBLE_DEVICES']  \n",
    "do_cuda_vis_dev = config['do_cuda_vis_dev']  \n",
    "partition_size = config['partition_size']  "
   ]
  },
  {
   "cell_type": "code",
   "execution_count": 6,
   "id": "d05488b2-d4e4-4289-8bad-4b9c549eb057",
   "metadata": {},
   "outputs": [],
   "source": [
    "dsplit_config = yaml.safe_load(open(dsplit_file, 'r'))\n",
    "splits = dsplit_config['splits']  \n",
    "\n",
    "split_names = []\n",
    "for key, val in splits.items():\n",
    "    split_names.append(key)\n",
    "\n",
    "split_names = [ x + '.parquet' for x in split_names]\n",
    "split_files = [f\"{in_dir}/{x}\" for x in split_names]"
   ]
  },
  {
   "cell_type": "code",
   "execution_count": 7,
   "id": "afb455b4-3624-4215-ad45-e6c40f35a9f2",
   "metadata": {},
   "outputs": [],
   "source": [
    "replace_gene_values = []\n",
    "for gene_val in possible_gene_values:\n",
    "    replace_gene_values.append(gene_val + ' ')"
   ]
  },
  {
   "cell_type": "code",
   "execution_count": 8,
   "id": "2f914934-d1cb-42d4-8097-fc708284f509",
   "metadata": {},
   "outputs": [],
   "source": [
    "tmp_dask_dir = '/tmp/dask'\n",
    "try:\n",
    "    rmtree(tmp_dask_dir)\n",
    "except:\n",
    "    pass"
   ]
  },
  {
   "cell_type": "code",
   "execution_count": 9,
   "id": "b9757a40-c44d-45a8-8ce9-e06d7e5c0eca",
   "metadata": {},
   "outputs": [
    {
     "name": "stdout",
     "output_type": "stream",
     "text": [
      "starting Dask GPU cluster...\n"
     ]
    },
    {
     "name": "stderr",
     "output_type": "stream",
     "text": [
      "2022-07-13 01:14:06,054 - distributed.preloading - INFO - Import preload module: dask_cuda.initialize\n",
      "2022-07-13 01:14:06,061 - distributed.preloading - INFO - Import preload module: dask_cuda.initialize\n"
     ]
    }
   ],
   "source": [
    "print(f\"starting Dask GPU cluster...\")\n",
    "if do_cuda_vis_dev:\n",
    "    cluster = LocalCUDACluster(\n",
    "        protocol=\"ucx\",\n",
    "        enable_tcp_over_ucx=True,\n",
    "        CUDA_VISIBLE_DEVICES=CUDA_VISIBLE_DEVICES,\n",
    "        local_directory=tmp_dask_dir,\n",
    "    )\n",
    "else:\n",
    "    cluster = LocalCUDACluster(\n",
    "        protocol=\"ucx\",\n",
    "        enable_tcp_over_ucx=True,\n",
    "        local_directory=tmp_dask_dir,\n",
    "    )\n",
    "client = Client(cluster)"
   ]
  },
  {
   "cell_type": "code",
   "execution_count": 10,
   "id": "d54419c4-03b9-4edb-822b-016305fb9025",
   "metadata": {},
   "outputs": [],
   "source": [
    "def add_whitespace(df):\n",
    "    df[input_col_name] = df[input_col_name].str.replace(possible_gene_values, replace_gene_values, regex=False)\n",
    "    return df\n",
    "\n",
    "def get_kmers(df):\n",
    "    df['temp'] = df[input_col_name].copy()\n",
    "    df['temp'] = ' '\n",
    "    for i in np.arange(0, df[input_col_name].str.len().max() - k_mer):\n",
    "        # print(i)\n",
    "        temp_df = df[input_col_name].str[i: i + k_mer].fillna(' ')\n",
    "        change_mask = temp_df.str.len() < k_mer\n",
    "        temp_df[change_mask] = ' '\n",
    "        df['temp'] = df['temp'] + ' ' + temp_df\n",
    "    df['temp'] = df['temp'].str.normalize_spaces()\n",
    "    df[input_col_name] = df['temp']\n",
    "    df = df.drop(columns=['temp'])\n",
    "    return df"
   ]
  },
  {
   "cell_type": "code",
   "execution_count": 11,
   "id": "a9432266-fae0-4e8f-8b8b-b8504e85d534",
   "metadata": {},
   "outputs": [
    {
     "name": "stdout",
     "output_type": "stream",
     "text": [
      "reading file gs://jcosme/clean_data/genomics/data_splits_inverse/train.parquet\n",
      "creating 1 mer...\n",
      "saving data to gs://jcosme/clean_data/genomics/data_splits_inverse_1_mer/train.parquet\n"
     ]
    },
    {
     "name": "stderr",
     "output_type": "stream",
     "text": [
      "/opt/conda/lib/python3.8/site-packages/cudf/core/column/string.py:920: UserWarning: `n` parameter is not supported when `pat` and `repl` are list-like inputs\n",
      "  warnings.warn(\n"
     ]
    },
    {
     "name": "stdout",
     "output_type": "stream",
     "text": [
      "reading file gs://jcosme/clean_data/genomics/data_splits_inverse/val.parquet\n",
      "creating 1 mer...\n",
      "saving data to gs://jcosme/clean_data/genomics/data_splits_inverse_1_mer/val.parquet\n",
      "reading file gs://jcosme/clean_data/genomics/data_splits_inverse/test.parquet\n",
      "creating 1 mer...\n",
      "saving data to gs://jcosme/clean_data/genomics/data_splits_inverse_1_mer/test.parquet\n"
     ]
    }
   ],
   "source": [
    "for i, in_file in enumerate(split_files):\n",
    "    out_file = f\"{out_dir}/{split_names[i]}\"\n",
    "\n",
    "    # first we create the Dask dataframe\n",
    "    print(f\"reading file {in_file}\")\n",
    "    df = dask_cudf.read_parquet(in_file,  # location of raw file\n",
    "                            partition_size=partition_size,\n",
    "                            )\n",
    "\n",
    "    print(f\"creating {k_mer} mer...\")\n",
    "    if k_mer == 1:\n",
    "        df = df.map_partitions(add_whitespace)\n",
    "    elif (k_mer > 1):\n",
    "        df = df.map_partitions(get_kmers)\n",
    "\n",
    "    df[input_col_name] = df[input_col_name].str.split()\n",
    "\n",
    "    print(f\"saving data to {out_file}\")\n",
    "    # the final step is to save the cleaned data.\n",
    "    _ = df.to_parquet(out_file)\n",
    "\n",
    "    client.cancel(df)"
   ]
  },
  {
   "cell_type": "code",
   "execution_count": 12,
   "id": "c061df41-3b97-4fad-b2fd-460cbd22a2a5",
   "metadata": {},
   "outputs": [
    {
     "name": "stdout",
     "output_type": "stream",
     "text": [
      "shutting down Dask client\n"
     ]
    },
    {
     "name": "stderr",
     "output_type": "stream",
     "text": [
      "/opt/conda/lib/python3.8/site-packages/cudf/core/column/string.py:920: UserWarning: `n` parameter is not supported when `pat` and `repl` are list-like inputs\n",
      "  warnings.warn(\n",
      "/opt/conda/lib/python3.8/site-packages/cudf/core/column/string.py:920: UserWarning: `n` parameter is not supported when `pat` and `repl` are list-like inputs\n",
      "  warnings.warn(\n"
     ]
    },
    {
     "name": "stdout",
     "output_type": "stream",
     "text": [
      "finished\n"
     ]
    }
   ],
   "source": [
    "print(f\"shutting down Dask client\")\n",
    "client.shutdown()\n",
    "print(f\"finished\")"
   ]
  },
  {
   "cell_type": "code",
   "execution_count": null,
   "id": "104815f4-276b-4848-bff8-4c475ce50b31",
   "metadata": {},
   "outputs": [],
   "source": []
  }
 ],
 "metadata": {
  "kernelspec": {
   "display_name": "Python 3 (ipykernel)",
   "language": "python",
   "name": "python3"
  },
  "language_info": {
   "codemirror_mode": {
    "name": "ipython",
    "version": 3
   },
   "file_extension": ".py",
   "mimetype": "text/x-python",
   "name": "python",
   "nbconvert_exporter": "python",
   "pygments_lexer": "ipython3",
   "version": "3.8.13"
  }
 },
 "nbformat": 4,
 "nbformat_minor": 5
}
