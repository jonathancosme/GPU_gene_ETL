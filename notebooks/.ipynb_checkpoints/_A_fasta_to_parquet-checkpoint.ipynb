{
 "cells": [
  {
   "cell_type": "code",
   "execution_count": 1,
   "id": "9be0e382-aefc-4be5-bc03-c2f5a2d979ad",
   "metadata": {},
   "outputs": [],
   "source": [
    "from dask.distributed import Client\n",
    "from dask_cuda import LocalCUDACluster\n",
    "import dask_cudf\n",
    "import argparse\n",
    "import yaml\n",
    "from pprint import pprint\n",
    "from shutil import rmtree"
   ]
  },
  {
   "cell_type": "code",
   "execution_count": 2,
   "id": "2c3b684f-b357-4044-9704-6ec73277f27b",
   "metadata": {},
   "outputs": [],
   "source": [
    "cur_dir = '/home/jovyan/work/projects/GPU_gene_ETL'\n",
    "config_subdir = 'configs/fasta_to_parquet_config.yaml'"
   ]
  },
  {
   "cell_type": "code",
   "execution_count": 3,
   "id": "8fcb119e-ac14-4af6-8c66-92a3f8409036",
   "metadata": {},
   "outputs": [
    {
     "data": {
      "text/plain": [
       "'/home/jovyan/work/projects/GPU_gene_ETL/configs/fasta_to_parquet_config.yaml'"
      ]
     },
     "execution_count": 3,
     "metadata": {},
     "output_type": "execute_result"
    }
   ],
   "source": [
    "config_dir = f\"{cur_dir}/{config_subdir}\"\n",
    "config_dir"
   ]
  },
  {
   "cell_type": "code",
   "execution_count": 4,
   "id": "c4b87e24-08c3-4d29-b3ba-adfa5156fd88",
   "metadata": {},
   "outputs": [
    {
     "name": "stdout",
     "output_type": "stream",
     "text": [
      "loading yaml file...\n",
      "{'CUDA_VISIBLE_DEVICES': '0',\n",
      " 'base_col_names': ['seq', 'label'],\n",
      " 'do_cuda_vis_dev': False,\n",
      " 'fasta_sep': '>',\n",
      " 'in_file': 'gs://jcosme/raw_data/genomics/MarRef.training.fasta',\n",
      " 'label_col_name': 'label',\n",
      " 'out_file': 'gs://jcosme/clean_data/genomics/MarRef_training.parquet',\n",
      " 'partition_size': '100M'}\n"
     ]
    }
   ],
   "source": [
    "print(f\"loading yaml file...\")\n",
    "config = yaml.safe_load(open(config_dir, 'r'))\n",
    "pprint(config)"
   ]
  },
  {
   "cell_type": "code",
   "execution_count": 5,
   "id": "cab17338-47ad-4f6c-aa80-42a997c87e46",
   "metadata": {},
   "outputs": [],
   "source": [
    "in_file = config['in_file']  \n",
    "out_file = config['out_file']  \n",
    "base_col_names = config['base_col_names']  \n",
    "fasta_sep = config['fasta_sep']  \n",
    "label_col_name = config['label_col_name'] \n",
    "\n",
    "CUDA_VISIBLE_DEVICES = config['CUDA_VISIBLE_DEVICES']  \n",
    "do_cuda_vis_dev = config['do_cuda_vis_dev']  \n",
    "partition_size = config['partition_size']  "
   ]
  },
  {
   "cell_type": "code",
   "execution_count": 6,
   "id": "3686a5c8-3f28-45e0-8ef6-d808a5f227f7",
   "metadata": {},
   "outputs": [],
   "source": [
    "tmp_dask_dir = '/tmp/dask'\n",
    "try:\n",
    "    rmtree(tmp_dask_dir)\n",
    "except:\n",
    "    pass"
   ]
  },
  {
   "cell_type": "code",
   "execution_count": 7,
   "id": "a0524105-b03c-4774-97ac-a25fb77e2457",
   "metadata": {},
   "outputs": [
    {
     "name": "stdout",
     "output_type": "stream",
     "text": [
      "starting Dask GPU cluster...\n"
     ]
    },
    {
     "name": "stderr",
     "output_type": "stream",
     "text": [
      "2022-07-13 00:51:02,511 - distributed.preloading - INFO - Import preload module: dask_cuda.initialize\n",
      "2022-07-13 00:51:02,523 - distributed.preloading - INFO - Import preload module: dask_cuda.initialize\n"
     ]
    }
   ],
   "source": [
    "print(f\"starting Dask GPU cluster...\")\n",
    "if do_cuda_vis_dev:\n",
    "    cluster = LocalCUDACluster(\n",
    "        protocol=\"ucx\",\n",
    "        enable_tcp_over_ucx=True,\n",
    "        CUDA_VISIBLE_DEVICES=CUDA_VISIBLE_DEVICES,\n",
    "        local_directory=tmp_dask_dir,\n",
    "    )\n",
    "else:\n",
    "    cluster = LocalCUDACluster(\n",
    "        protocol=\"ucx\",\n",
    "        enable_tcp_over_ucx=True,\n",
    "        local_directory=tmp_dask_dir,\n",
    "    )\n",
    "client = Client(cluster)"
   ]
  },
  {
   "cell_type": "code",
   "execution_count": 8,
   "id": "36c07443-0c73-49dc-aa13-a647d82a3274",
   "metadata": {},
   "outputs": [
    {
     "name": "stdout",
     "output_type": "stream",
     "text": [
      "reading .fasta file gs://jcosme/raw_data/genomics/MarRef.training.fasta\n"
     ]
    }
   ],
   "source": [
    "# first we create the Dask dataframe\n",
    "print(f\"reading .fasta file {in_file}\")\n",
    "df = dask_cudf.read_csv(in_file,  # location of raw file\n",
    "                        sep=fasta_sep,  # this is the '>' sign\n",
    "                        names=base_col_names,  # column names\n",
    "                        dtype=str,  # data type\n",
    "                        partition_size=partition_size,\n",
    "                        )"
   ]
  },
  {
   "cell_type": "code",
   "execution_count": 9,
   "id": "9f5dcca2-9e6d-4e44-966c-90be4909debd",
   "metadata": {},
   "outputs": [
    {
     "name": "stdout",
     "output_type": "stream",
     "text": [
      "shifting data...\n"
     ]
    }
   ],
   "source": [
    "# now we have to shift the data, in order to correct the wrong offset\n",
    "print(f\"shifting data...\")\n",
    "df[label_col_name] = df[label_col_name].shift()"
   ]
  },
  {
   "cell_type": "code",
   "execution_count": 10,
   "id": "4126425b-56c6-4f55-8af6-6e3430794694",
   "metadata": {},
   "outputs": [
    {
     "name": "stdout",
     "output_type": "stream",
     "text": [
      "dropping empty & duplicate rows...\n"
     ]
    }
   ],
   "source": [
    "# finally, we drop all empty rows, and reset the index\n",
    "print(f\"dropping empty & duplicate rows...\")\n",
    "df = df.dropna().drop_duplicates().reset_index(drop=True).repartition(partition_size=partition_size)"
   ]
  },
  {
   "cell_type": "code",
   "execution_count": 11,
   "id": "6f50f997-b778-41b2-836c-e3bfaefb7602",
   "metadata": {},
   "outputs": [
    {
     "data": {
      "text/plain": [
       "14864656"
      ]
     },
     "execution_count": 11,
     "metadata": {},
     "output_type": "execute_result"
    }
   ],
   "source": [
    "#len(df)\n",
    "#14864656"
   ]
  },
  {
   "cell_type": "code",
   "execution_count": 12,
   "id": "16cbc771-1845-4014-bfc1-2fc0fe46e419",
   "metadata": {},
   "outputs": [
    {
     "name": "stdout",
     "output_type": "stream",
     "text": [
      "saving cleaned data to gs://jcosme/clean_data/genomics/MarRef_training.parquet\n"
     ]
    }
   ],
   "source": [
    "print(f\"saving cleaned data to {out_file}\")\n",
    "# the final step is to save the cleaned data.\n",
    "_ = df.to_parquet(out_file)"
   ]
  },
  {
   "cell_type": "code",
   "execution_count": 13,
   "id": "5d8826eb-b418-4da1-b7be-dfb0f6b43035",
   "metadata": {},
   "outputs": [
    {
     "name": "stdout",
     "output_type": "stream",
     "text": [
      "shutting down Dask client\n",
      "finished\n"
     ]
    }
   ],
   "source": [
    "client.cancel(df)\n",
    "print(f\"shutting down Dask client\")\n",
    "client.shutdown()\n",
    "print(f\"finished\")"
   ]
  },
  {
   "cell_type": "code",
   "execution_count": null,
   "id": "66911606-8602-4647-b0b9-626d280c01e2",
   "metadata": {},
   "outputs": [],
   "source": []
  }
 ],
 "metadata": {
  "kernelspec": {
   "display_name": "Python 3 (ipykernel)",
   "language": "python",
   "name": "python3"
  },
  "language_info": {
   "codemirror_mode": {
    "name": "ipython",
    "version": 3
   },
   "file_extension": ".py",
   "mimetype": "text/x-python",
   "name": "python",
   "nbconvert_exporter": "python",
   "pygments_lexer": "ipython3",
   "version": "3.8.13"
  }
 },
 "nbformat": 4,
 "nbformat_minor": 5
}
