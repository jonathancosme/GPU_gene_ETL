{
 "cells": [
  {
   "cell_type": "code",
   "execution_count": null,
   "id": "7c478a83-6249-483e-b351-3f9fd1e6b522",
   "metadata": {},
   "outputs": [],
   "source": [
    "from dask.distributed import Client\n",
    "from dask_cuda import LocalCUDACluster\n",
    "import dask_cudf\n",
    "import argparse\n",
    "import yaml\n",
    "from pprint import pprint"
   ]
  },
  {
   "cell_type": "code",
   "execution_count": null,
   "id": "59690101-ed71-424c-8de2-bed7b8d1b0f6",
   "metadata": {},
   "outputs": [],
   "source": [
    "cur_dir = '/home/jovyan/work/projects/COSME'\n",
    "config_subdir = 'configs/make_kmers_config.yaml'"
   ]
  },
  {
   "cell_type": "code",
   "execution_count": null,
   "id": "c8603e7c-f2b6-4a48-979f-a3e4bd353d7e",
   "metadata": {},
   "outputs": [],
   "source": [
    "config_dir = f\"{cur_dir}/{config_subdir}\""
   ]
  },
  {
   "cell_type": "code",
   "execution_count": null,
   "id": "f74a9155-6610-4294-af10-d1be7b616873",
   "metadata": {},
   "outputs": [],
   "source": [
    "print(f\"loading yaml file...\")\n",
    "config = open(config_dir, 'r').read()\n",
    "pprint(config_yaml_data)"
   ]
  },
  {
   "cell_type": "code",
   "execution_count": null,
   "id": "e9f38550-ff5f-426a-985a-9ca12bbd0161",
   "metadata": {},
   "outputs": [],
   "source": [
    "in_dir = config['in_dir']  \n",
    "out_dir = config['out_dir']  \n",
    "label_col_name = config['label_col_name']  \n",
    "input_col_name = config['input_col_name']  \n",
    "k_mer = config['k_mer']  \n",
    "possible_gene_values = config['possible_gene_values']  \n",
    "max_seq_len = config['max_seq_len']  \n",
    "CUDA_VISIBLE_DEVICES = config['CUDA_VISIBLE_DEVICES']  \n",
    "do_cuda_vis_dev = config['do_cuda_vis_dev']  \n",
    "partition_size = config['partition_size']  "
   ]
  },
  {
   "cell_type": "code",
   "execution_count": null,
   "id": "d05488b2-d4e4-4289-8bad-4b9c549eb057",
   "metadata": {},
   "outputs": [],
   "source": [
    "split_files = glob(f\"{in_dir}/*.parquet\")\n",
    "split_names = [ x.split('/')[-1] for x in split_files]"
   ]
  },
  {
   "cell_type": "code",
   "execution_count": null,
   "id": "afb455b4-3624-4215-ad45-e6c40f35a9f2",
   "metadata": {},
   "outputs": [],
   "source": [
    "replace_gene_values = []\n",
    "for gene_val in possible_gene_values:\n",
    "    replace_gene_values.append(gene_val + ' ')"
   ]
  },
  {
   "cell_type": "code",
   "execution_count": null,
   "id": "b9757a40-c44d-45a8-8ce9-e06d7e5c0eca",
   "metadata": {},
   "outputs": [],
   "source": [
    "print(f\"starting Dask GPU cluster...\")\n",
    "if do_cuda_vis_dev:\n",
    "    cluster = LocalCUDACluster(\n",
    "        protocol=\"ucx\",\n",
    "        enable_tcp_over_ucx=True,\n",
    "        CUDA_VISIBLE_DEVICES=CUDA_VISIBLE_DEVICES,\n",
    "        local_directory='/tmp',\n",
    "    )\n",
    "else:\n",
    "    cluster = LocalCUDACluster(\n",
    "        protocol=\"ucx\",\n",
    "        enable_tcp_over_ucx=True,\n",
    "        local_directory='/tmp',\n",
    "    )\n",
    "client = Client(cluster)"
   ]
  },
  {
   "cell_type": "code",
   "execution_count": null,
   "id": "d54419c4-03b9-4edb-822b-016305fb9025",
   "metadata": {},
   "outputs": [],
   "source": [
    "def add_whitespace(df):\n",
    "    df[input_col_name] = df[input_col_name].str.replace(possible_gene_values, replace_gene_values, regex=False)\n",
    "    return df\n",
    "\n",
    "def get_kmers(df):\n",
    "    df['temp'] = df[input_col_name].copy()\n",
    "    df['temp'] = ' '\n",
    "    for i in np.arange(0, df[input_col_name].str.len().max() - k_mer):\n",
    "        # print(i)\n",
    "        temp_df = df[input_col_name].str[i: i + k_mer].fillna(' ')\n",
    "        change_mask = temp_df.str.len() < k_mer\n",
    "        temp_df[change_mask] = ' '\n",
    "        df['temp'] = df['temp'] + ' ' + temp_df\n",
    "    df['temp'] = df['temp'].str.normalize_spaces()\n",
    "    df[input_col_name] = df['temp']\n",
    "    df = df.drop(columns=['temp'])\n",
    "    return df"
   ]
  },
  {
   "cell_type": "code",
   "execution_count": null,
   "id": "a9432266-fae0-4e8f-8b8b-b8504e85d534",
   "metadata": {},
   "outputs": [],
   "source": [
    "for i, in_file in enumerate(split_files):\n",
    "    out_file = f\"{out_dir}/{split_names[i]}\"\n",
    "\n",
    "    # first we create the Dask dataframe\n",
    "    print(f\"reading file {in_file}\")\n",
    "    df = dask_cudf.read_parquet(in_file,  # location of raw file\n",
    "                            partition_size=partition_size,\n",
    "                            )\n",
    "\n",
    "    print(f\"creating {k_mer} mer...\")\n",
    "    if k_mer == 1:\n",
    "        df = df.map_partitions(add_whitespace)\n",
    "    elif (k_mer > 1):\n",
    "        df = df.map_partitions(get_kmers)\n",
    "\n",
    "    df[input_col_name] = df[input_col_name].str.split()\n",
    "\n",
    "    print(f\"saving data to {out_file}\")\n",
    "    # the final step is to save the cleaned data.\n",
    "    _ = df.to_parquet(out_file)\n",
    "\n",
    "    client.cancel(df)"
   ]
  },
  {
   "cell_type": "code",
   "execution_count": null,
   "id": "c061df41-3b97-4fad-b2fd-460cbd22a2a5",
   "metadata": {},
   "outputs": [],
   "source": [
    "print(f\"shutting down Dask client\")\n",
    "client.shutdown()\n",
    "print(f\"finished\")"
   ]
  }
 ],
 "metadata": {
  "kernelspec": {
   "display_name": "mlflow",
   "language": "python",
   "name": "mlflow"
  },
  "language_info": {
   "codemirror_mode": {
    "name": "ipython",
    "version": 3
   },
   "file_extension": ".py",
   "mimetype": "text/x-python",
   "name": "python",
   "nbconvert_exporter": "python",
   "pygments_lexer": "ipython3",
   "version": "3.8.13"
  }
 },
 "nbformat": 4,
 "nbformat_minor": 5
}
