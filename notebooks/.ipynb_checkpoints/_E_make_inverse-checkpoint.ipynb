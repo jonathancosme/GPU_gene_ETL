{
 "cells": [
  {
   "cell_type": "code",
   "execution_count": null,
   "id": "b99a0b99-309a-43c4-b699-f1a934268979",
   "metadata": {},
   "outputs": [],
   "source": [
    "from dask.distributed import Client\n",
    "from dask_cuda import LocalCUDACluster\n",
    "import dask_cudf\n",
    "import argparse\n",
    "import yaml\n",
    "from pprint import pprint\n",
    "from glob import glob"
   ]
  },
  {
   "cell_type": "code",
   "execution_count": null,
   "id": "533021a0-461a-4946-b412-7eefe993d8df",
   "metadata": {},
   "outputs": [],
   "source": [
    "cur_dir = '/home/jovyan/work/projects/COSME'\n",
    "config_subdir = 'configs/make_inverse_config.yaml'"
   ]
  },
  {
   "cell_type": "code",
   "execution_count": null,
   "id": "e1fb9717-5d54-4f99-99a5-ca736209684e",
   "metadata": {},
   "outputs": [],
   "source": [
    "config_dir = f\"{cur_dir}/{config_subdir}\""
   ]
  },
  {
   "cell_type": "code",
   "execution_count": null,
   "id": "ed5639b4-d57b-420f-a464-261ff8bb9e71",
   "metadata": {},
   "outputs": [],
   "source": [
    "print(f\"loading yaml file...\")\n",
    "config = open(config_dir, 'r').read()\n",
    "pprint(config_yaml_data)"
   ]
  },
  {
   "cell_type": "code",
   "execution_count": null,
   "id": "730c4f4f-4daf-4777-b6ac-d139f78185c0",
   "metadata": {},
   "outputs": [],
   "source": [
    "in_dir = config['in_dir']  \n",
    "out_dir = config['out_dir']  \n",
    "inverse_col = config['inverse_col'] \n",
    "CUDA_VISIBLE_DEVICES = config['CUDA_VISIBLE_DEVICES']  \n",
    "do_cuda_vis_dev = config['do_cuda_vis_dev']  \n",
    "partition_size = config['partition_size']  "
   ]
  },
  {
   "cell_type": "code",
   "execution_count": null,
   "id": "7c3a2afc-13e2-47fc-a74b-85b3b4401c54",
   "metadata": {},
   "outputs": [],
   "source": [
    "split_files = glob(f\"{in_dir}/*.parquet\")\n",
    "split_names = [ x.split('/')[-1] for x in split_files]"
   ]
  },
  {
   "cell_type": "code",
   "execution_count": null,
   "id": "dbe04333-e9f8-4592-b819-7fb11f50da3c",
   "metadata": {},
   "outputs": [],
   "source": [
    "print(f\"starting Dask GPU cluster...\")\n",
    "if do_cuda_vis_dev:\n",
    "    cluster = LocalCUDACluster(\n",
    "        protocol=\"ucx\",\n",
    "        enable_tcp_over_ucx=True,\n",
    "        CUDA_VISIBLE_DEVICES=CUDA_VISIBLE_DEVICES,\n",
    "        local_directory='/tmp',\n",
    "    )\n",
    "else:\n",
    "    cluster = LocalCUDACluster(\n",
    "        protocol=\"ucx\",\n",
    "        enable_tcp_over_ucx=True,\n",
    "        local_directory='/tmp',\n",
    "    )\n",
    "client = Client(cluster)"
   ]
  },
  {
   "cell_type": "code",
   "execution_count": null,
   "id": "f91eab7b-8a8c-4006-b2ba-0956adee3f13",
   "metadata": {},
   "outputs": [],
   "source": [
    "def get_inverse(df):\n",
    "    df[inverse_col] = df[inverse_col].str.slice(start=-1, stop=None, step=-1)\n",
    "    return df"
   ]
  },
  {
   "cell_type": "code",
   "execution_count": null,
   "id": "1b613cf4-5d62-442f-9104-76a591bdf9c5",
   "metadata": {},
   "outputs": [],
   "source": [
    "for i, in_file in enumerate(split_files):\n",
    "    out_file = f\"{out_dir}/{split_names[i]}\"\n",
    "    \n",
    "    print(f\"reading file {in_file}\")\n",
    "    df = dask_cudf.read_parquet(in_file,  # location of raw file\n",
    "                            partition_size=partition_size,\n",
    "                            )\n",
    "    print(f\"inverting column {inverse_col}...\")\n",
    "    df_inverse = df.copy()\n",
    "    df_inverse = df_inverse.map_partitions(get_inverse)\n",
    "    df = dask_cudf.concat([df, df_inverse]).reset_index(True).repartition(partition_size=partition_size)\n",
    "    \n",
    "    print(f\"saving data to {out_file}\")\n",
    "    _ = df.to_parquet(out_file)\n",
    "    \n",
    "    client.cancel(df)"
   ]
  },
  {
   "cell_type": "code",
   "execution_count": null,
   "id": "99bc273c-35a4-40af-8d5e-d0ff3c16e52f",
   "metadata": {},
   "outputs": [],
   "source": [
    "print(f\"shutting down Dask client\")\n",
    "client.shutdown()\n",
    "print(f\"finished\")"
   ]
  }
 ],
 "metadata": {
  "kernelspec": {
   "display_name": "mlflow",
   "language": "python",
   "name": "mlflow"
  },
  "language_info": {
   "codemirror_mode": {
    "name": "ipython",
    "version": 3
   },
   "file_extension": ".py",
   "mimetype": "text/x-python",
   "name": "python",
   "nbconvert_exporter": "python",
   "pygments_lexer": "ipython3",
   "version": "3.8.13"
  }
 },
 "nbformat": 4,
 "nbformat_minor": 5
}
