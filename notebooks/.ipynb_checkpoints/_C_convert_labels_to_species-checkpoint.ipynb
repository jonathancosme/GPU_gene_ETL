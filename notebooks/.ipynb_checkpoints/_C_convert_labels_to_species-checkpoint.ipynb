{
 "cells": [
  {
   "cell_type": "code",
   "execution_count": 1,
   "id": "9a4f74fb-b42e-4333-b403-e23eb3f5e34e",
   "metadata": {},
   "outputs": [],
   "source": [
    "from dask.distributed import Client\n",
    "from dask_cuda import LocalCUDACluster\n",
    "import dask_cudf\n",
    "import argparse\n",
    "import yaml\n",
    "from pprint import pprint\n",
    "from shutil import rmtree"
   ]
  },
  {
   "cell_type": "code",
   "execution_count": 2,
   "id": "ba7b5367-1f0e-444e-be59-ae72775f4f2f",
   "metadata": {},
   "outputs": [],
   "source": [
    "cur_dir = '/home/jovyan/work/projects/GPU_gene_ETL'\n",
    "config_subdir = 'configs/convert_labels_to_species_config.yaml'"
   ]
  },
  {
   "cell_type": "code",
   "execution_count": 3,
   "id": "2ad7ce51-1be0-4b84-9d65-af1a2cb11627",
   "metadata": {},
   "outputs": [],
   "source": [
    "config_dir = f\"{cur_dir}/{config_subdir}\""
   ]
  },
  {
   "cell_type": "code",
   "execution_count": 4,
   "id": "43874ab4-7f9f-4f91-b4c7-da05e047de9c",
   "metadata": {},
   "outputs": [
    {
     "name": "stdout",
     "output_type": "stream",
     "text": [
      "loading yaml file...\n",
      "{'CUDA_VISIBLE_DEVICES': '0',\n",
      " 'do_cuda_vis_dev': False,\n",
      " 'in_file': 'gs://jcosme/clean_data/genomics/MarRef_inverse_rm.parquet',\n",
      " 'label_col_name': 'label',\n",
      " 'label_regex': '(?:[^a-zA-Z0-9]+)([a-zA-Z]+[0-9]+)(?:[^a-zA-Z0-9]+)',\n",
      " 'out_file': 'gs://jcosme/clean_data/genomics/MarRef_species.parquet',\n",
      " 'partition_size': '100M',\n",
      " 'unq_label_out_file': 'gs://jcosme/clean_data/genomics/MarRef_species_unq.parquet'}\n"
     ]
    }
   ],
   "source": [
    "print(f\"loading yaml file...\")\n",
    "config = yaml.safe_load(open(config_dir, 'r'))\n",
    "pprint(config)"
   ]
  },
  {
   "cell_type": "code",
   "execution_count": 5,
   "id": "40be8031-f8ab-48d3-bd97-7aa9f4ef4546",
   "metadata": {},
   "outputs": [],
   "source": [
    "in_file = config['in_file']  \n",
    "out_file = config['out_file']  \n",
    "unq_label_out_file = config['unq_label_out_file']  \n",
    "label_col_name = config['label_col_name']  \n",
    "label_regex = config['label_regex']    \n",
    "CUDA_VISIBLE_DEVICES = config['CUDA_VISIBLE_DEVICES']  \n",
    "do_cuda_vis_dev = config['do_cuda_vis_dev']  \n",
    "partition_size = config['partition_size']  "
   ]
  },
  {
   "cell_type": "code",
   "execution_count": 6,
   "id": "4ab15689-36d1-40fe-81a0-1f8d5f156a62",
   "metadata": {},
   "outputs": [],
   "source": [
    "tmp_dask_dir = '/tmp/dask'\n",
    "try:\n",
    "    rmtree(tmp_dask_dir)\n",
    "except:\n",
    "    pass"
   ]
  },
  {
   "cell_type": "code",
   "execution_count": 7,
   "id": "adf2b38a-474a-43b7-b02f-81fb434ed99d",
   "metadata": {},
   "outputs": [
    {
     "name": "stdout",
     "output_type": "stream",
     "text": [
      "starting Dask GPU cluster...\n"
     ]
    },
    {
     "name": "stderr",
     "output_type": "stream",
     "text": [
      "2022-07-13 00:56:44,854 - distributed.preloading - INFO - Import preload module: dask_cuda.initialize\n",
      "2022-07-13 00:56:44,882 - distributed.preloading - INFO - Import preload module: dask_cuda.initialize\n"
     ]
    }
   ],
   "source": [
    "print(f\"starting Dask GPU cluster...\")\n",
    "if do_cuda_vis_dev:\n",
    "    cluster = LocalCUDACluster(\n",
    "        protocol=\"ucx\",\n",
    "        enable_tcp_over_ucx=True,\n",
    "        CUDA_VISIBLE_DEVICES=CUDA_VISIBLE_DEVICES,\n",
    "        local_directory=tmp_dask_dir,\n",
    "    )\n",
    "else:\n",
    "    cluster = LocalCUDACluster(\n",
    "        protocol=\"ucx\",\n",
    "        enable_tcp_over_ucx=True,\n",
    "        local_directory=tmp_dask_dir,\n",
    "    )\n",
    "client = Client(cluster)"
   ]
  },
  {
   "cell_type": "code",
   "execution_count": 8,
   "id": "278d0d2a-af28-4a10-b49e-c6ad8b726f87",
   "metadata": {},
   "outputs": [
    {
     "name": "stdout",
     "output_type": "stream",
     "text": [
      "reading file gs://jcosme/clean_data/genomics/MarRef_inverse_rm.parquet\n"
     ]
    }
   ],
   "source": [
    "# first we create the Dask dataframe\n",
    "print(f\"reading file {in_file}\")\n",
    "df = dask_cudf.read_parquet(in_file,  # location of raw file\n",
    "                        partition_size=partition_size,\n",
    "                        )"
   ]
  },
  {
   "cell_type": "code",
   "execution_count": 9,
   "id": "f71bab41-7480-4d8a-8f7b-e3bb88a5de77",
   "metadata": {},
   "outputs": [
    {
     "data": {
      "text/plain": [
       "7432328"
      ]
     },
     "execution_count": 9,
     "metadata": {},
     "output_type": "execute_result"
    }
   ],
   "source": [
    "#len(df)\n",
    "#7432328"
   ]
  },
  {
   "cell_type": "code",
   "execution_count": 10,
   "id": "798223b9-9a87-4d4a-ba3c-439906c3981c",
   "metadata": {},
   "outputs": [],
   "source": [
    "def extract_labels(df):\n",
    "        df[label_col_name] = df[label_col_name].str.extract(label_regex).loc[:, 0]\n",
    "        return df"
   ]
  },
  {
   "cell_type": "code",
   "execution_count": 11,
   "id": "281eaa1e-8946-40df-85a5-41df472a40ea",
   "metadata": {},
   "outputs": [
    {
     "name": "stdout",
     "output_type": "stream",
     "text": [
      "extracting labels...\n"
     ]
    }
   ],
   "source": [
    "print(f\"extracting labels...\")\n",
    "df = df.map_partitions(extract_labels)"
   ]
  },
  {
   "cell_type": "code",
   "execution_count": 12,
   "id": "91c05caa-6e99-4ee8-8fa7-a20a074767f0",
   "metadata": {},
   "outputs": [
    {
     "data": {
      "text/plain": [
       "7432328"
      ]
     },
     "execution_count": 12,
     "metadata": {},
     "output_type": "execute_result"
    }
   ],
   "source": [
    "#len(df)\n",
    "#7432328"
   ]
  },
  {
   "cell_type": "code",
   "execution_count": 16,
   "id": "5c4edfcd-e468-4eae-81c7-5f58419bc941",
   "metadata": {},
   "outputs": [],
   "source": [
    "# df[label_col_name].value_counts().compute()"
   ]
  },
  {
   "cell_type": "code",
   "execution_count": null,
   "id": "25af5445-dc70-4fa2-b4b8-d7dd05ecdeb8",
   "metadata": {},
   "outputs": [],
   "source": [
    "print(f\"saving data to {out_file}\")\n",
    "# the final step is to save the cleaned data.\n",
    "_ = df.to_parquet(out_file)"
   ]
  },
  {
   "cell_type": "code",
   "execution_count": 14,
   "id": "9d01296b-6ca1-49f4-ab22-00b0e0a6e175",
   "metadata": {},
   "outputs": [
    {
     "name": "stdout",
     "output_type": "stream",
     "text": [
      "creating unique labels...\n",
      "saving data to gs://jcosme/clean_data/genomics/MarRef_species_unq.parquet\n"
     ]
    }
   ],
   "source": [
    "print(f\"creating unique labels...\")\n",
    "del df\n",
    "df = dask_cudf.read_parquet(out_file)\n",
    "unq_labs_df = df[label_col_name].unique().to_frame().reset_index(True)"
   ]
  },
  {
   "cell_type": "code",
   "execution_count": null,
   "id": "34ea508d-6b45-48b2-a6e6-51e24c626ba6",
   "metadata": {},
   "outputs": [],
   "source": [
    "print(f\"saving data to {unq_label_out_file}\")\n",
    "_ = unq_labs_df.to_parquet(unq_label_out_file)"
   ]
  },
  {
   "cell_type": "code",
   "execution_count": 19,
   "id": "33f1c788-46da-4e09-b3fe-7b98c16c40ff",
   "metadata": {},
   "outputs": [
    {
     "name": "stdout",
     "output_type": "stream",
     "text": [
      "shutting down Dask client\n",
      "finished\n"
     ]
    },
    {
     "name": "stderr",
     "output_type": "stream",
     "text": [
      "2022-07-12 22:39:43,249 - distributed.client - ERROR - Failed to reconnect to scheduler after 30.00 seconds, closing client\n"
     ]
    }
   ],
   "source": [
    "print(f\"shutting down Dask client\")\n",
    "client.shutdown()\n",
    "print(f\"finished\")"
   ]
  },
  {
   "cell_type": "code",
   "execution_count": null,
   "id": "889872ee-4c01-4ae7-b473-232346aae0dd",
   "metadata": {},
   "outputs": [],
   "source": []
  }
 ],
 "metadata": {
  "kernelspec": {
   "display_name": "Python 3 (ipykernel)",
   "language": "python",
   "name": "python3"
  },
  "language_info": {
   "codemirror_mode": {
    "name": "ipython",
    "version": 3
   },
   "file_extension": ".py",
   "mimetype": "text/x-python",
   "name": "python",
   "nbconvert_exporter": "python",
   "pygments_lexer": "ipython3",
   "version": "3.8.13"
  }
 },
 "nbformat": 4,
 "nbformat_minor": 5
}
